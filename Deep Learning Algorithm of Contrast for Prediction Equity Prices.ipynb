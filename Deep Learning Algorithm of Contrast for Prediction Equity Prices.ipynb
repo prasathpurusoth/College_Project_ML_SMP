{
 "cells": [
  {
   "cell_type": "code",
   "execution_count": 1,
   "id": "0311fb92",
   "metadata": {},
   "outputs": [],
   "source": [
    "# 1ST MODULE -> COLLECTION OF STOCK DATA\n",
    "import pandas as pd\n",
    "import numpy as np\n",
    "from matplotlib import pyplot as plt"
   ]
  },
  {
   "cell_type": "code",
   "execution_count": 2,
   "id": "7cf87837",
   "metadata": {},
   "outputs": [],
   "source": [
    "# from google.colab import files\n",
    "# uploaded = files.upload()"
   ]
  },
  {
   "cell_type": "code",
   "execution_count": 3,
   "id": "15dc690d",
   "metadata": {},
   "outputs": [
    {
     "data": {
      "text/html": [
       "<div>\n",
       "<style scoped>\n",
       "    .dataframe tbody tr th:only-of-type {\n",
       "        vertical-align: middle;\n",
       "    }\n",
       "\n",
       "    .dataframe tbody tr th {\n",
       "        vertical-align: top;\n",
       "    }\n",
       "\n",
       "    .dataframe thead th {\n",
       "        text-align: right;\n",
       "    }\n",
       "</style>\n",
       "<table border=\"1\" class=\"dataframe\">\n",
       "  <thead>\n",
       "    <tr style=\"text-align: right;\">\n",
       "      <th></th>\n",
       "      <th>Date</th>\n",
       "      <th>Open</th>\n",
       "      <th>High</th>\n",
       "      <th>Low</th>\n",
       "      <th>Close</th>\n",
       "      <th>Adj Close</th>\n",
       "      <th>Volume</th>\n",
       "    </tr>\n",
       "  </thead>\n",
       "  <tbody>\n",
       "    <tr>\n",
       "      <th>0</th>\n",
       "      <td>2012-10-17</td>\n",
       "      <td>39.529041</td>\n",
       "      <td>39.529041</td>\n",
       "      <td>38.509617</td>\n",
       "      <td>38.795437</td>\n",
       "      <td>13.962730</td>\n",
       "      <td>33279679.0</td>\n",
       "    </tr>\n",
       "    <tr>\n",
       "      <th>1</th>\n",
       "      <td>2012-10-18</td>\n",
       "      <td>39.005039</td>\n",
       "      <td>39.300385</td>\n",
       "      <td>38.662052</td>\n",
       "      <td>39.228931</td>\n",
       "      <td>14.118746</td>\n",
       "      <td>42712202.0</td>\n",
       "    </tr>\n",
       "    <tr>\n",
       "      <th>2</th>\n",
       "      <td>2012-10-19</td>\n",
       "      <td>39.062202</td>\n",
       "      <td>39.333733</td>\n",
       "      <td>38.604889</td>\n",
       "      <td>38.819256</td>\n",
       "      <td>13.971304</td>\n",
       "      <td>32476508.0</td>\n",
       "    </tr>\n",
       "    <tr>\n",
       "      <th>3</th>\n",
       "      <td>2012-10-22</td>\n",
       "      <td>38.604889</td>\n",
       "      <td>39.100311</td>\n",
       "      <td>38.404812</td>\n",
       "      <td>38.857365</td>\n",
       "      <td>13.985021</td>\n",
       "      <td>23557192.0</td>\n",
       "    </tr>\n",
       "    <tr>\n",
       "      <th>4</th>\n",
       "      <td>2012-10-23</td>\n",
       "      <td>38.490559</td>\n",
       "      <td>39.052673</td>\n",
       "      <td>38.457214</td>\n",
       "      <td>38.528667</td>\n",
       "      <td>13.866719</td>\n",
       "      <td>17672606.0</td>\n",
       "    </tr>\n",
       "  </tbody>\n",
       "</table>\n",
       "</div>"
      ],
      "text/plain": [
       "         Date       Open       High        Low      Close  Adj Close  \\\n",
       "0  2012-10-17  39.529041  39.529041  38.509617  38.795437  13.962730   \n",
       "1  2012-10-18  39.005039  39.300385  38.662052  39.228931  14.118746   \n",
       "2  2012-10-19  39.062202  39.333733  38.604889  38.819256  13.971304   \n",
       "3  2012-10-22  38.604889  39.100311  38.404812  38.857365  13.985021   \n",
       "4  2012-10-23  38.490559  39.052673  38.457214  38.528667  13.866719   \n",
       "\n",
       "       Volume  \n",
       "0  33279679.0  \n",
       "1  42712202.0  \n",
       "2  32476508.0  \n",
       "3  23557192.0  \n",
       "4  17672606.0  "
      ]
     },
     "execution_count": 3,
     "metadata": {},
     "output_type": "execute_result"
    }
   ],
   "source": [
    "df=pd.read_csv('TATASTEEL.NS (1).csv')\n",
    "df.head()"
   ]
  },
  {
   "cell_type": "code",
   "execution_count": 4,
   "id": "a33a76d3",
   "metadata": {},
   "outputs": [
    {
     "data": {
      "text/html": [
       "<div>\n",
       "<style scoped>\n",
       "    .dataframe tbody tr th:only-of-type {\n",
       "        vertical-align: middle;\n",
       "    }\n",
       "\n",
       "    .dataframe tbody tr th {\n",
       "        vertical-align: top;\n",
       "    }\n",
       "\n",
       "    .dataframe thead th {\n",
       "        text-align: right;\n",
       "    }\n",
       "</style>\n",
       "<table border=\"1\" class=\"dataframe\">\n",
       "  <thead>\n",
       "    <tr style=\"text-align: right;\">\n",
       "      <th></th>\n",
       "      <th>Date</th>\n",
       "      <th>Open</th>\n",
       "      <th>High</th>\n",
       "      <th>Low</th>\n",
       "      <th>Close</th>\n",
       "      <th>Adj Close</th>\n",
       "      <th>Volume</th>\n",
       "    </tr>\n",
       "  </thead>\n",
       "  <tbody>\n",
       "    <tr>\n",
       "      <th>2461</th>\n",
       "      <td>2022-10-10</td>\n",
       "      <td>102.000000</td>\n",
       "      <td>103.500000</td>\n",
       "      <td>101.150002</td>\n",
       "      <td>103.199997</td>\n",
       "      <td>103.199997</td>\n",
       "      <td>36641275.0</td>\n",
       "    </tr>\n",
       "    <tr>\n",
       "      <th>2462</th>\n",
       "      <td>2022-10-11</td>\n",
       "      <td>103.550003</td>\n",
       "      <td>103.650002</td>\n",
       "      <td>99.800003</td>\n",
       "      <td>100.349998</td>\n",
       "      <td>100.349998</td>\n",
       "      <td>41083734.0</td>\n",
       "    </tr>\n",
       "    <tr>\n",
       "      <th>2463</th>\n",
       "      <td>2022-10-12</td>\n",
       "      <td>100.349998</td>\n",
       "      <td>101.199997</td>\n",
       "      <td>99.000000</td>\n",
       "      <td>100.550003</td>\n",
       "      <td>100.550003</td>\n",
       "      <td>41357469.0</td>\n",
       "    </tr>\n",
       "    <tr>\n",
       "      <th>2464</th>\n",
       "      <td>2022-10-13</td>\n",
       "      <td>101.099998</td>\n",
       "      <td>101.800003</td>\n",
       "      <td>98.800003</td>\n",
       "      <td>100.099998</td>\n",
       "      <td>100.099998</td>\n",
       "      <td>34668093.0</td>\n",
       "    </tr>\n",
       "    <tr>\n",
       "      <th>2465</th>\n",
       "      <td>2022-10-14</td>\n",
       "      <td>101.849998</td>\n",
       "      <td>102.800003</td>\n",
       "      <td>99.900002</td>\n",
       "      <td>100.099998</td>\n",
       "      <td>100.099998</td>\n",
       "      <td>32456805.0</td>\n",
       "    </tr>\n",
       "  </tbody>\n",
       "</table>\n",
       "</div>"
      ],
      "text/plain": [
       "            Date        Open        High         Low       Close   Adj Close  \\\n",
       "2461  2022-10-10  102.000000  103.500000  101.150002  103.199997  103.199997   \n",
       "2462  2022-10-11  103.550003  103.650002   99.800003  100.349998  100.349998   \n",
       "2463  2022-10-12  100.349998  101.199997   99.000000  100.550003  100.550003   \n",
       "2464  2022-10-13  101.099998  101.800003   98.800003  100.099998  100.099998   \n",
       "2465  2022-10-14  101.849998  102.800003   99.900002  100.099998  100.099998   \n",
       "\n",
       "          Volume  \n",
       "2461  36641275.0  \n",
       "2462  41083734.0  \n",
       "2463  41357469.0  \n",
       "2464  34668093.0  \n",
       "2465  32456805.0  "
      ]
     },
     "execution_count": 4,
     "metadata": {},
     "output_type": "execute_result"
    }
   ],
   "source": [
    "df.tail()"
   ]
  },
  {
   "cell_type": "code",
   "execution_count": 5,
   "id": "5ebedd00",
   "metadata": {},
   "outputs": [
    {
     "data": {
      "text/plain": [
       "(2466, 7)"
      ]
     },
     "execution_count": 5,
     "metadata": {},
     "output_type": "execute_result"
    }
   ],
   "source": [
    "df.shape"
   ]
  },
  {
   "cell_type": "code",
   "execution_count": 6,
   "id": "a8f15de7",
   "metadata": {},
   "outputs": [
    {
     "data": {
      "text/plain": [
       "Date         0\n",
       "Open         3\n",
       "High         3\n",
       "Low          3\n",
       "Close        3\n",
       "Adj Close    3\n",
       "Volume       3\n",
       "dtype: int64"
      ]
     },
     "execution_count": 6,
     "metadata": {},
     "output_type": "execute_result"
    }
   ],
   "source": [
    "df.isnull().sum()"
   ]
  },
  {
   "cell_type": "code",
   "execution_count": 7,
   "id": "916d743f",
   "metadata": {},
   "outputs": [],
   "source": [
    "df = df.dropna()"
   ]
  },
  {
   "cell_type": "code",
   "execution_count": 8,
   "id": "73061352",
   "metadata": {},
   "outputs": [
    {
     "data": {
      "text/plain": [
       "Date         0\n",
       "Open         0\n",
       "High         0\n",
       "Low          0\n",
       "Close        0\n",
       "Adj Close    0\n",
       "Volume       0\n",
       "dtype: int64"
      ]
     },
     "execution_count": 8,
     "metadata": {},
     "output_type": "execute_result"
    }
   ],
   "source": [
    "df.isnull().sum()"
   ]
  },
  {
   "cell_type": "code",
   "execution_count": 9,
   "id": "d97187d1",
   "metadata": {},
   "outputs": [],
   "source": [
    "df1=df.reset_index()['Close']"
   ]
  },
  {
   "cell_type": "code",
   "execution_count": 10,
   "id": "a9da471d",
   "metadata": {},
   "outputs": [
    {
     "data": {
      "text/plain": [
       "(2463,)"
      ]
     },
     "execution_count": 10,
     "metadata": {},
     "output_type": "execute_result"
    }
   ],
   "source": [
    "df1.shape"
   ]
  },
  {
   "cell_type": "code",
   "execution_count": 11,
   "id": "fb3023ed",
   "metadata": {},
   "outputs": [
    {
     "data": {
      "image/png": "[encoded data removed]",
      "text/plain": [
       "<Figure size 640x480 with 1 Axes>"
      ]
     },
     "metadata": {},
     "output_type": "display_data"
    }
   ],
   "source": [
    "plt.title('historical price')\n",
    "plt.plot(df['Close'])\n",
    "plt.xlabel('Date')\n",
    "plt.ylabel('prices')\n",
    "plt.show()"
   ]
  },
  {
   "cell_type": "code",
   "execution_count": 12,
   "id": "51355a60",
   "metadata": {},
   "outputs": [],
   "source": [
    "# 1ST MODULE DONE -----> COLLECTION OF STOCK DATA"
   ]
  },
  {
   "cell_type": "code",
   "execution_count": 13,
   "id": "972ffd31",
   "metadata": {},
   "outputs": [],
   "source": [
    "# 2ND MODULE -> PREPROCESSING THE DATA (TRAINING AND TESTING)"
   ]
  },
  {
   "cell_type": "code",
   "execution_count": 14,
   "id": "80347e09",
   "metadata": {},
   "outputs": [
    {
     "data": {
      "text/plain": [
       "Date         0\n",
       "Open         0\n",
       "High         0\n",
       "Low          0\n",
       "Close        0\n",
       "Adj Close    0\n",
       "Volume       0\n",
       "dtype: int64"
      ]
     },
     "execution_count": 14,
     "metadata": {},
     "output_type": "execute_result"
    }
   ],
   "source": [
    "df.isnull().sum()"
   ]
  },
  {
   "cell_type": "code",
   "execution_count": 15,
   "id": "1ff5a844",
   "metadata": {},
   "outputs": [
    {
     "data": {
      "text/plain": [
       "0        38.795437\n",
       "1        39.228931\n",
       "2        38.819256\n",
       "3        38.857365\n",
       "4        38.528667\n",
       "           ...    \n",
       "2458    103.199997\n",
       "2459    100.349998\n",
       "2460    100.550003\n",
       "2461    100.099998\n",
       "2462    100.099998\n",
       "Name: Close, Length: 2463, dtype: float64"
      ]
     },
     "execution_count": 15,
     "metadata": {},
     "output_type": "execute_result"
    }
   ],
   "source": [
    "df1"
   ]
  },
  {
   "cell_type": "code",
   "execution_count": 16,
   "id": "5d81b7f5",
   "metadata": {},
   "outputs": [],
   "source": [
    "#Feature scaling to transform the data\n",
    "from sklearn.preprocessing import MinMaxScaler\n",
    "scaler=MinMaxScaler(feature_range=(0,1))\n",
    "df1=scaler.fit_transform(np.array(df1).reshape(-1,1))"
   ]
  },
  {
   "cell_type": "code",
   "execution_count": 17,
   "id": "4a6248cd",
   "metadata": {},
   "outputs": [
    {
     "data": {
      "text/plain": [
       "(2463, 1)"
      ]
     },
     "execution_count": 17,
     "metadata": {},
     "output_type": "execute_result"
    }
   ],
   "source": [
    "df1.shape"
   ]
  },
  {
   "cell_type": "code",
   "execution_count": 18,
   "id": "f6c02175",
   "metadata": {},
   "outputs": [
    {
     "data": {
      "text/plain": [
       "array([[0.14962146],\n",
       "       [0.15287954],\n",
       "       [0.14980048],\n",
       "       ...,\n",
       "       [0.61376004],\n",
       "       [0.61037787],\n",
       "       [0.61037787]])"
      ]
     },
     "execution_count": 18,
     "metadata": {},
     "output_type": "execute_result"
    }
   ],
   "source": [
    "df1"
   ]
  },
  {
   "cell_type": "code",
   "execution_count": 19,
   "id": "b638b937",
   "metadata": {},
   "outputs": [],
   "source": [
    "training_size=int(len(df1)*0.8)\n",
    "test_size=len(df1)-training_size\n",
    "train_data,test_data=df1[0:training_size,:],df1[training_size:len(df1),:1]"
   ]
  },
  {
   "cell_type": "code",
   "execution_count": 20,
   "id": "2f4b84f6",
   "metadata": {},
   "outputs": [
    {
     "data": {
      "text/plain": [
       "(1970, 493)"
      ]
     },
     "execution_count": 20,
     "metadata": {},
     "output_type": "execute_result"
    }
   ],
   "source": [
    "training_size,test_size"
   ]
  },
  {
   "cell_type": "code",
   "execution_count": 21,
   "id": "dd848b16",
   "metadata": {},
   "outputs": [
    {
     "data": {
      "text/plain": [
       "(1970, 493)"
      ]
     },
     "execution_count": 21,
     "metadata": {},
     "output_type": "execute_result"
    }
   ],
   "source": [
    "len(train_data), len(test_data)"
   ]
  },
  {
   "cell_type": "code",
   "execution_count": 22,
   "id": "d39c6cc0",
   "metadata": {},
   "outputs": [],
   "source": [
    "import numpy\n",
    "# convert an array of values into a dataset matrix\n",
    "def create_dataset(dataset,time_step=1):\n",
    "  dataX, dataY=[], []\n",
    "  for i in range(len(dataset)-time_step-1):\n",
    "    a=dataset[i:(i+time_step), 0]\n",
    "    dataX.append(a)\n",
    "    dataY.append(dataset[i + time_step, 0])\n",
    "  return numpy.array(dataX), numpy.array(dataY)"
   ]
  },
  {
   "cell_type": "code",
   "execution_count": 23,
   "id": "d1daa6a1",
   "metadata": {},
   "outputs": [],
   "source": [
    "#reshape into x=t,t+1,t+2,t+3 and y=t+4\n",
    "time_step = 100\n",
    "X_train, Y_train = create_dataset(train_data, time_step)\n",
    "X_test, Y_test = create_dataset(test_data, time_step)"
   ]
  },
  {
   "cell_type": "code",
   "execution_count": 24,
   "id": "654631af",
   "metadata": {},
   "outputs": [
    {
     "name": "stdout",
     "output_type": "stream",
     "text": [
      "[[0.14962146 0.15287954 0.14980048 ... 0.11535782 0.11313802 0.11016636]\n",
      " [0.15287954 0.14980048 0.15008691 ... 0.11313802 0.11016636 0.11374667]\n",
      " [0.14980048 0.15008691 0.14761646 ... 0.11016636 0.11374667 0.1118491 ]\n",
      " ...\n",
      " [0.07445959 0.08013406 0.07990859 ... 0.13695397 0.13488709 0.14029851]\n",
      " [0.08013406 0.07990859 0.09494031 ... 0.13488709 0.14029851 0.13905839]\n",
      " [0.07990859 0.09494031 0.09809698 ... 0.14029851 0.13905839 0.15405252]]\n"
     ]
    }
   ],
   "source": [
    "print(X_train)"
   ]
  },
  {
   "cell_type": "code",
   "execution_count": 25,
   "id": "f3075fa2",
   "metadata": {},
   "outputs": [
    {
     "name": "stdout",
     "output_type": "stream",
     "text": [
      "[[0.1617187  0.16592759 0.17629948 ... 0.40256437 0.3991447  0.41150826]\n",
      " [0.16592759 0.17629948 0.16498811 ... 0.3991447  0.41150826 0.40222617]\n",
      " [0.17629948 0.16498811 0.16694222 ... 0.41150826 0.40222617 0.38745754]\n",
      " ...\n",
      " [0.74509966 0.70143248 0.73784683 ... 0.63630762 0.63442865 0.63367702]\n",
      " [0.70143248 0.73784683 0.62687518 ... 0.63442865 0.63367702 0.61225683]\n",
      " [0.73784683 0.62687518 0.61439888 ... 0.63367702 0.61225683 0.61376004]]\n"
     ]
    }
   ],
   "source": [
    "print(X_test)"
   ]
  },
  {
   "cell_type": "code",
   "execution_count": 26,
   "id": "137e5776",
   "metadata": {},
   "outputs": [
    {
     "name": "stdout",
     "output_type": "stream",
     "text": [
      "[0.11374667 0.1118491  0.10816139 ... 0.13905839 0.15405252 0.15529264]\n"
     ]
    }
   ],
   "source": [
    "print(Y_train)"
   ]
  },
  {
   "cell_type": "code",
   "execution_count": 27,
   "id": "0bdaf3b4",
   "metadata": {},
   "outputs": [
    {
     "name": "stdout",
     "output_type": "stream",
     "text": [
      "[0.40222617 0.38745754 0.38779574 0.4089529  0.41684451 0.41507829\n",
      " 0.38625498 0.40154977 0.43439404 0.45930913 0.4682154  0.50669661\n",
      " 0.51022908 0.50654633 0.51556534 0.54829686 0.5340919  0.49805337\n",
      " 0.51868442 0.53311486 0.52713976 0.52548626 0.52995821 0.55055164\n",
      " 0.55370829 0.56509481 0.59290353 0.58813093 0.63318853 0.63518023\n",
      " 0.65829146 0.65761507 0.66235004 0.68546128 0.74667798 0.77223191\n",
      " 0.78542222 0.74427291 0.70891078 0.72300301 0.74491175 0.73307429\n",
      " 0.68858037 0.69463064 0.67877217 0.6886931  0.67136904 0.68226708\n",
      " 0.68741542 0.70406307 0.68546128 0.70286051 0.70131975 0.70034271\n",
      " 0.70635542 0.69312749 0.68553645 0.6956453  0.72863991 0.73348767\n",
      " 0.74062771 0.71646419 0.68760333 0.67899769 0.68940712 0.69402941\n",
      " 0.68486005 0.69466825 0.73382587 0.74791811 0.73931241 0.73484053\n",
      " 0.73254818 0.71184196 0.72751252 0.73532901 0.77396053 0.7522397\n",
      " 0.78951835 0.7801987  0.78155156 0.79353936 0.8019947  0.81890538\n",
      " 0.80984876 0.78500885 0.81480926 0.82112255 0.83356128 0.85813817\n",
      " 0.88395513 0.95430357 0.93603998 0.91781411 0.91567206 0.92243629\n",
      " 0.94528457 0.93194385 0.91942999 0.89041878 0.92995215 0.93682922\n",
      " 0.95659585 1.         0.98820005 0.98575742 0.89192193 0.8791826\n",
      " 0.91375548 0.90289512 0.89150861 0.89834795 0.94077501 0.94802778\n",
      " 0.91867836 0.9291254  0.94306739 0.93806929 0.93183111 0.93269548\n",
      " 0.94558515 0.95794876 0.94956854 0.95167298 0.93788144 0.89966324\n",
      " 0.79985266 0.82923969 0.83946126 0.84915667 0.8141328  0.81293029\n",
      " 0.82078435 0.83175744 0.82675944 0.83348617 0.8532528  0.84776626\n",
      " 0.81999516 0.82698491 0.83596641 0.84502304 0.85697323 0.87591311\n",
      " 0.89150861 0.91856563 0.88538316 0.86764573 0.84615037 0.8322836\n",
      " 0.83006644 0.86790881 0.85475606 0.83480147 0.84708985 0.88388001\n",
      " 0.84536123 0.85468083 0.85456809 0.86760812 0.86212157 0.83401222\n",
      " 0.83480147 0.82551938 0.79410303 0.78158912 0.77501274 0.74987225\n",
      " 0.73367552 0.75396837 0.74378435 0.74013916 0.69402941 0.69587076\n",
      " 0.66313923 0.67166969 0.69410453 0.69831345 0.69139881 0.72146225\n",
      " 0.73965067 0.74254424 0.74491175 0.73386343 0.73529146 0.72540809\n",
      " 0.72476925 0.70891078 0.66445447 0.68861798 0.70646815 0.70556622\n",
      " 0.69639687 0.70116945 0.70541594 0.69699815 0.68553645 0.69339052\n",
      " 0.71668972 0.72146225 0.74310796 0.73232266 0.73014312 0.73668188\n",
      " 0.70752037 0.72025974 0.77583949 0.77016504 0.78230313 0.75607281\n",
      " 0.76715868 0.76497908 0.73717042 0.6841836  0.69162434 0.6760289\n",
      " 0.67324801 0.67392447 0.7354042  0.73551693 0.73484053 0.74213086\n",
      " 0.74716653 0.77467454 0.77674142 0.79628263 0.80086732 0.7500601\n",
      " 0.76576827 0.75378046 0.75314162 0.75302889 0.74630217 0.71387128\n",
      " 0.71409674 0.66524366 0.71886933 0.77553885 0.82709765 0.8375823\n",
      " 0.81789073 0.82901422 0.81217866 0.80154377 0.84164081 0.83637973\n",
      " 0.83284727 0.78530949 0.80898446 0.83769503 0.83731921 0.8366052\n",
      " 0.85840126 0.87309466 0.86437635 0.86437635 0.86114447 0.84115226\n",
      " 0.84051348 0.84795422 0.86659351 0.86884829 0.88827673 0.87230553\n",
      " 0.88827673 0.87861882 0.85032162 0.84975795 0.86448909 0.85509426\n",
      " 0.84581217 0.83671793 0.81822893 0.77523827 0.78519676 0.79504251\n",
      " 0.80567746 0.81334366 0.83149447 0.80605327 0.8232646  0.82285116\n",
      " 0.79921381 0.73356279 0.73416407 0.69808793 0.6825301  0.68741542\n",
      " 0.75145057 0.74509966 0.70143248 0.73784683 0.62687518 0.61439888\n",
      " 0.6089499  0.64870874 0.64232027 0.64528907 0.65145206 0.6573896\n",
      " 0.67091811 0.66020805 0.66832514 0.66110991 0.67482639 0.64333493\n",
      " 0.6274389  0.60357603 0.60673268 0.57922466 0.53574539 0.53950332\n",
      " 0.50545649 0.52304363 0.48794453 0.4903496  0.49903047 0.51030426\n",
      " 0.51860924 0.52063856 0.50970297 0.51406219 0.50030815 0.50451701\n",
      " 0.50301386 0.53446771 0.52387032 0.54405045 0.53604603 0.53811291\n",
      " 0.54048042 0.522292   0.53769953 0.54908606 0.55585034 0.56024711\n",
      " 0.5615624  0.58008897 0.57167119 0.57911193 0.61225683 0.66674681\n",
      " 0.67163213 0.66223731 0.66261312 0.66749838 0.66486784 0.66374045\n",
      " 0.67877217 0.67802059 0.70470192 0.70733246 0.70357453 0.70395034\n",
      " 0.6851607  0.6475814  0.66674681 0.65885519 0.65660041 0.66486784\n",
      " 0.64607819 0.67200794 0.65772781 0.65096352 0.66148573 0.67426266\n",
      " 0.66674681 0.65359405 0.65246667 0.6678742  0.6678742  0.67839642\n",
      " 0.66223731 0.65246667 0.63292544 0.6532183  0.64307184 0.63668337\n",
      " 0.64194451 0.6084989  0.59196404 0.57355015 0.58595133 0.60436522\n",
      " 0.59722511 0.61826955 0.63630762 0.63442865 0.63367702 0.61225683\n",
      " 0.61376004 0.61037787]\n"
     ]
    }
   ],
   "source": [
    "print(Y_test)"
   ]
  },
  {
   "cell_type": "code",
   "execution_count": 28,
   "id": "f3d91ac6",
   "metadata": {},
   "outputs": [],
   "source": [
    "# 2ND MODULE DONE ----> PREPROCESSING THE DATA (TRAINING AND TESTING)"
   ]
  },
  {
   "cell_type": "code",
   "execution_count": 29,
   "id": "ec5e76a5",
   "metadata": {},
   "outputs": [],
   "source": [
    "# 3RD MODULE -> ACCURACY OF DATA"
   ]
  },
  {
   "cell_type": "code",
   "execution_count": 30,
   "id": "ccb5f0e3",
   "metadata": {},
   "outputs": [],
   "source": [
    "from sklearn.linear_model import LinearRegression"
   ]
  },
  {
   "cell_type": "code",
   "execution_count": 31,
   "id": "9624edd4",
   "metadata": {},
   "outputs": [],
   "source": [
    "model_linear_regression=LinearRegression()"
   ]
  },
  {
   "cell_type": "code",
   "execution_count": 32,
   "id": "7c1802cf",
   "metadata": {},
   "outputs": [
    {
     "data": {
      "text/html": [
       "<style>#sk-container-id-1 {color: black;background-color: white;}#sk-container-id-1 pre{padding: 0;}#sk-container-id-1 div.sk-toggleable {background-color: white;}#sk-container-id-1 label.sk-toggleable__label {cursor: pointer;display: block;width: 100%;margin-bottom: 0;padding: 0.3em;box-sizing: border-box;text-align: center;}#sk-container-id-1 label.sk-toggleable__label-arrow:before {content: \"▸\";float: left;margin-right: 0.25em;color: #696969;}#sk-container-id-1 label.sk-toggleable__label-arrow:hover:before {color: black;}#sk-container-id-1 div.sk-estimator:hover label.sk-toggleable__label-arrow:before {color: black;}#sk-container-id-1 div.sk-toggleable__content {max-height: 0;max-width: 0;overflow: hidden;text-align: left;background-color: #f0f8ff;}#sk-container-id-1 div.sk-toggleable__content pre {margin: 0.2em;color: black;border-radius: 0.25em;background-color: #f0f8ff;}#sk-container-id-1 input.sk-toggleable__control:checked~div.sk-toggleable__content {max-height: 200px;max-width: 100%;overflow: auto;}#sk-container-id-1 input.sk-toggleable__control:checked~label.sk-toggleable__label-arrow:before {content: \"▾\";}#sk-container-id-1 div.sk-estimator input.sk-toggleable__control:checked~label.sk-toggleable__label {background-color: #d4ebff;}#sk-container-id-1 div.sk-label input.sk-toggleable__control:checked~label.sk-toggleable__label {background-color: #d4ebff;}#sk-container-id-1 input.sk-hidden--visually {border: 0;clip: rect(1px 1px 1px 1px);clip: rect(1px, 1px, 1px, 1px);height: 1px;margin: -1px;overflow: hidden;padding: 0;position: absolute;width: 1px;}#sk-container-id-1 div.sk-estimator {font-family: monospace;background-color: #f0f8ff;border: 1px dotted black;border-radius: 0.25em;box-sizing: border-box;margin-bottom: 0.5em;}#sk-container-id-1 div.sk-estimator:hover {background-color: #d4ebff;}#sk-container-id-1 div.sk-parallel-item::after {content: \"\";width: 100%;border-bottom: 1px solid gray;flex-grow: 1;}#sk-container-id-1 div.sk-label:hover label.sk-toggleable__label {background-color: #d4ebff;}#sk-container-id-1 div.sk-serial::before {content: \"\";position: absolute;border-left: 1px solid gray;box-sizing: border-box;top: 0;bottom: 0;left: 50%;z-index: 0;}#sk-container-id-1 div.sk-serial {display: flex;flex-direction: column;align-items: center;background-color: white;padding-right: 0.2em;padding-left: 0.2em;position: relative;}#sk-container-id-1 div.sk-item {position: relative;z-index: 1;}#sk-container-id-1 div.sk-parallel {display: flex;align-items: stretch;justify-content: center;background-color: white;position: relative;}#sk-container-id-1 div.sk-item::before, #sk-container-id-1 div.sk-parallel-item::before {content: \"\";position: absolute;border-left: 1px solid gray;box-sizing: border-box;top: 0;bottom: 0;left: 50%;z-index: -1;}#sk-container-id-1 div.sk-parallel-item {display: flex;flex-direction: column;z-index: 1;position: relative;background-color: white;}#sk-container-id-1 div.sk-parallel-item:first-child::after {align-self: flex-end;width: 50%;}#sk-container-id-1 div.sk-parallel-item:last-child::after {align-self: flex-start;width: 50%;}#sk-container-id-1 div.sk-parallel-item:only-child::after {width: 0;}#sk-container-id-1 div.sk-dashed-wrapped {border: 1px dashed gray;margin: 0 0.4em 0.5em 0.4em;box-sizing: border-box;padding-bottom: 0.4em;background-color: white;}#sk-container-id-1 div.sk-label label {font-family: monospace;font-weight: bold;display: inline-block;line-height: 1.2em;}#sk-container-id-1 div.sk-label-container {text-align: center;}#sk-container-id-1 div.sk-container {/* jupyter's `normalize.less` sets `[hidden] { display: none; }` but bootstrap.min.css set `[hidden] { display: none !important; }` so we also need the `!important` here to be able to override the default hidden behavior on the sphinx rendered scikit-learn.org. See: https://github.com/scikit-learn/scikit-learn/issues/21755 */display: inline-block !important;position: relative;}#sk-container-id-1 div.sk-text-repr-fallback {display: none;}</style><div id=\"sk-container-id-1\" class=\"sk-top-container\"><div class=\"sk-text-repr-fallback\"><pre>LinearRegression()</pre><b>In a Jupyter environment, please rerun this cell to show the HTML representation or trust the notebook. <br />On GitHub, the HTML representation is unable to render, please try loading this page with nbviewer.org.</b></div><div class=\"sk-container\" hidden><div class=\"sk-item\"><div class=\"sk-estimator sk-toggleable\"><input class=\"sk-toggleable__control sk-hidden--visually\" id=\"sk-estimator-id-1\" type=\"checkbox\" checked><label for=\"sk-estimator-id-1\" class=\"sk-toggleable__label sk-toggleable__label-arrow\">LinearRegression</label><div class=\"sk-toggleable__content\"><pre>LinearRegression()</pre></div></div></div></div></div>"
      ],
      "text/plain": [
       "LinearRegression()"
      ]
     },
     "execution_count": 32,
     "metadata": {},
     "output_type": "execute_result"
    }
   ],
   "source": [
    "model_linear_regression.fit(X_train ,Y_train)"
   ]
  },
  {
   "cell_type": "code",
   "execution_count": 33,
   "id": "136a0f30",
   "metadata": {},
   "outputs": [],
   "source": [
    "#Training dataset part\n",
    "y_pred = model_linear_regression.predict(X_train)"
   ]
  },
  {
   "cell_type": "code",
   "execution_count": 34,
   "id": "05badda1",
   "metadata": {},
   "outputs": [],
   "source": [
    "from sklearn.metrics import mean_squared_error,mean_absolute_error,accuracy_score"
   ]
  },
  {
   "cell_type": "code",
   "execution_count": 35,
   "id": "8981e54a",
   "metadata": {},
   "outputs": [
    {
     "name": "stdout",
     "output_type": "stream",
     "text": [
      "Training Accuracy: 99.47639525100787\n"
     ]
    }
   ],
   "source": [
    "print(\"Training Accuracy:\",model_linear_regression.score(X_train,Y_train)*100)"
   ]
  },
  {
   "cell_type": "code",
   "execution_count": 36,
   "id": "38a41ddb",
   "metadata": {},
   "outputs": [],
   "source": [
    "#Testing Dataset part\n",
    "y1_test_pred=model_linear_regression.predict(X_test)"
   ]
  },
  {
   "cell_type": "code",
   "execution_count": 37,
   "id": "1417a751",
   "metadata": {},
   "outputs": [
    {
     "name": "stdout",
     "output_type": "stream",
     "text": [
      "Testing Accuracy: 96.71770975433826\n"
     ]
    }
   ],
   "source": [
    "print(\"Testing Accuracy:\",model_linear_regression.score(X_test,Y_test)*100)"
   ]
  },
  {
   "cell_type": "code",
   "execution_count": 38,
   "id": "137430e1",
   "metadata": {},
   "outputs": [
    {
     "name": "stdout",
     "output_type": "stream",
     "text": [
      "(1869, 100)\n",
      "(1869,)\n"
     ]
    },
    {
     "data": {
      "text/plain": [
       "(None, None)"
      ]
     },
     "execution_count": 38,
     "metadata": {},
     "output_type": "execute_result"
    }
   ],
   "source": [
    "print(X_train.shape), print(Y_train.shape)"
   ]
  },
  {
   "cell_type": "code",
   "execution_count": 39,
   "id": "e6fba6e7",
   "metadata": {},
   "outputs": [
    {
     "name": "stdout",
     "output_type": "stream",
     "text": [
      "(392, 100)\n",
      "(392,)\n"
     ]
    },
    {
     "data": {
      "text/plain": [
       "(None, None)"
      ]
     },
     "execution_count": 39,
     "metadata": {},
     "output_type": "execute_result"
    }
   ],
   "source": [
    "print(X_test.shape), print(Y_test.shape)"
   ]
  },
  {
   "cell_type": "code",
   "execution_count": 40,
   "id": "9efc0d64",
   "metadata": {},
   "outputs": [],
   "source": [
    "# 3RD MODULE DONE ----> ACCURACY OF DATA"
   ]
  },
  {
   "cell_type": "code",
   "execution_count": 41,
   "id": "cff7edad",
   "metadata": {},
   "outputs": [],
   "source": [
    "# 4TH MODULE -> CREATE RNN MODELS"
   ]
  },
  {
   "cell_type": "code",
   "execution_count": 45,
   "id": "9c630ecd",
   "metadata": {},
   "outputs": [],
   "source": [
    "# reshape input for required for LSTM AND CNN\n",
    "X_train =X_train.reshape(X_train.shape[0],X_train.shape[1] ,1)\n",
    "X_test = X_test.reshape(X_test.shape[0],X_test.shape[1] , 1)"
   ]
  },
  {
   "cell_type": "code",
   "execution_count": 46,
   "id": "7342a715",
   "metadata": {},
   "outputs": [],
   "source": [
    "# Importing libraries for creation of LSTM model\n",
    "from keras.models import Sequential\n",
    "from keras.layers import Dense\n",
    "from keras.layers import LSTM"
   ]
  },
  {
   "cell_type": "code",
   "execution_count": 47,
   "id": "10a565ba",
   "metadata": {},
   "outputs": [],
   "source": [
    "#Defining network\n",
    "\n",
    "# creation of LSTM model\n",
    "#initializing the RNN MODEL(Sequential)\n",
    "model_lstm=Sequential()\n",
    "model_lstm.add(LSTM(50, return_sequences=True, input_shape=(100,1)))\n",
    "model_lstm.add(LSTM(50, return_sequences=True))\n",
    "model_lstm.add(LSTM(50))\n",
    "#output layer\n",
    "model_lstm.add(Dense(1))\n",
    "#compiling network\n",
    "\n",
    "#compile RNN model\n",
    "model_lstm.compile(loss='mean_squared_error',optimizer='adam')"
   ]
  },
  {
   "cell_type": "code",
   "execution_count": 48,
   "id": "b8678e66",
   "metadata": {},
   "outputs": [
    {
     "name": "stdout",
     "output_type": "stream",
     "text": [
      "Model: \"sequential\"\n",
      "_________________________________________________________________\n",
      " Layer (type)                Output Shape              Param #   \n",
      "=================================================================\n",
      " lstm (LSTM)                 (None, 100, 50)           10400     \n",
      "                                                                 \n",
      " lstm_1 (LSTM)               (None, 100, 50)           20200     \n",
      "                                                                 \n",
      " lstm_2 (LSTM)               (None, 50)                20200     \n",
      "                                                                 \n",
      " dense (Dense)               (None, 1)                 51        \n",
      "                                                                 \n",
      "=================================================================\n",
      "Total params: 50851 (198.64 KB)\n",
      "Trainable params: 50851 (198.64 KB)\n",
      "Non-trainable params: 0 (0.00 Byte)\n",
      "_________________________________________________________________\n"
     ]
    }
   ],
   "source": [
    "model_lstm.summary()"
   ]
  },
  {
   "cell_type": "code",
   "execution_count": 49,
   "id": "090b0504",
   "metadata": {},
   "outputs": [
    {
     "name": "stdout",
     "output_type": "stream",
     "text": [
      "Epoch 1/100\n",
      "30/30 [==============================] - 11s 183ms/step - loss: 0.0050 - val_loss: 0.0085\n",
      "Epoch 2/100\n",
      "30/30 [==============================] - 4s 141ms/step - loss: 5.6068e-04 - val_loss: 0.0039\n",
      "Epoch 3/100\n",
      "30/30 [==============================] - 4s 133ms/step - loss: 4.0683e-04 - val_loss: 0.0040\n",
      "Epoch 4/100\n",
      "30/30 [==============================] - 4s 145ms/step - loss: 3.7673e-04 - val_loss: 0.0038\n",
      "Epoch 5/100\n",
      "30/30 [==============================] - 4s 137ms/step - loss: 3.5391e-04 - val_loss: 0.0035\n",
      "Epoch 6/100\n",
      "30/30 [==============================] - 4s 130ms/step - loss: 3.2587e-04 - val_loss: 0.0029\n",
      "Epoch 7/100\n",
      "30/30 [==============================] - 4s 132ms/step - loss: 3.0025e-04 - val_loss: 0.0030\n",
      "Epoch 8/100\n",
      "30/30 [==============================] - 4s 149ms/step - loss: 3.1269e-04 - val_loss: 0.0028\n",
      "Epoch 9/100\n",
      "30/30 [==============================] - 5s 150ms/step - loss: 2.9294e-04 - val_loss: 0.0027\n",
      "Epoch 10/100\n",
      "30/30 [==============================] - 6s 198ms/step - loss: 2.6997e-04 - val_loss: 0.0030\n",
      "Epoch 11/100\n",
      "30/30 [==============================] - 6s 189ms/step - loss: 3.0994e-04 - val_loss: 0.0051\n",
      "Epoch 12/100\n",
      "30/30 [==============================] - 6s 201ms/step - loss: 2.8110e-04 - val_loss: 0.0027\n",
      "Epoch 13/100\n",
      "30/30 [==============================] - 5s 163ms/step - loss: 2.4745e-04 - val_loss: 0.0025\n",
      "Epoch 14/100\n",
      "30/30 [==============================] - 5s 164ms/step - loss: 2.3542e-04 - val_loss: 0.0026\n",
      "Epoch 15/100\n",
      "30/30 [==============================] - 5s 157ms/step - loss: 2.4300e-04 - val_loss: 0.0029\n",
      "Epoch 16/100\n",
      "30/30 [==============================] - 4s 137ms/step - loss: 2.2770e-04 - val_loss: 0.0021\n",
      "Epoch 17/100\n",
      "30/30 [==============================] - 4s 136ms/step - loss: 2.1972e-04 - val_loss: 0.0020\n",
      "Epoch 18/100\n",
      "30/30 [==============================] - 4s 149ms/step - loss: 2.1338e-04 - val_loss: 0.0028\n",
      "Epoch 19/100\n",
      "30/30 [==============================] - 4s 131ms/step - loss: 2.1055e-04 - val_loss: 0.0027\n",
      "Epoch 20/100\n",
      "30/30 [==============================] - 4s 132ms/step - loss: 2.0822e-04 - val_loss: 0.0020\n",
      "Epoch 21/100\n",
      "30/30 [==============================] - 4s 139ms/step - loss: 1.9652e-04 - val_loss: 0.0019\n",
      "Epoch 22/100\n",
      "30/30 [==============================] - 4s 150ms/step - loss: 2.0185e-04 - val_loss: 0.0018\n",
      "Epoch 23/100\n",
      "30/30 [==============================] - 4s 137ms/step - loss: 1.8450e-04 - val_loss: 0.0024\n",
      "Epoch 24/100\n",
      "30/30 [==============================] - 4s 134ms/step - loss: 1.7984e-04 - val_loss: 0.0022\n",
      "Epoch 25/100\n",
      "30/30 [==============================] - 5s 155ms/step - loss: 1.7773e-04 - val_loss: 0.0017\n",
      "Epoch 26/100\n",
      "30/30 [==============================] - 4s 143ms/step - loss: 1.9655e-04 - val_loss: 0.0023\n",
      "Epoch 27/100\n",
      "30/30 [==============================] - 4s 138ms/step - loss: 1.7730e-04 - val_loss: 0.0022\n",
      "Epoch 28/100\n",
      "30/30 [==============================] - 4s 131ms/step - loss: 1.6801e-04 - val_loss: 0.0024\n",
      "Epoch 29/100\n",
      "30/30 [==============================] - 4s 145ms/step - loss: 1.6928e-04 - val_loss: 0.0023\n",
      "Epoch 30/100\n",
      "30/30 [==============================] - 4s 140ms/step - loss: 1.7738e-04 - val_loss: 0.0018\n",
      "Epoch 31/100\n",
      "30/30 [==============================] - 4s 131ms/step - loss: 1.6438e-04 - val_loss: 0.0021\n",
      "Epoch 32/100\n",
      "30/30 [==============================] - 4s 131ms/step - loss: 1.5981e-04 - val_loss: 0.0014\n",
      "Epoch 33/100\n",
      "30/30 [==============================] - 4s 148ms/step - loss: 1.6646e-04 - val_loss: 0.0022\n",
      "Epoch 34/100\n",
      "30/30 [==============================] - 4s 137ms/step - loss: 1.6112e-04 - val_loss: 0.0019\n",
      "Epoch 35/100\n",
      "30/30 [==============================] - 4s 133ms/step - loss: 1.5152e-04 - val_loss: 0.0014\n",
      "Epoch 36/100\n",
      "30/30 [==============================] - 4s 131ms/step - loss: 1.5325e-04 - val_loss: 0.0016\n",
      "Epoch 37/100\n",
      "30/30 [==============================] - 5s 152ms/step - loss: 1.5233e-04 - val_loss: 0.0013\n",
      "Epoch 38/100\n",
      "30/30 [==============================] - 4s 135ms/step - loss: 1.5025e-04 - val_loss: 0.0017\n",
      "Epoch 39/100\n",
      "30/30 [==============================] - 4s 138ms/step - loss: 1.5453e-04 - val_loss: 0.0012\n",
      "Epoch 40/100\n",
      "30/30 [==============================] - 4s 137ms/step - loss: 1.4586e-04 - val_loss: 0.0012\n",
      "Epoch 41/100\n",
      "30/30 [==============================] - 5s 150ms/step - loss: 1.3673e-04 - val_loss: 0.0012\n",
      "Epoch 42/100\n",
      "30/30 [==============================] - 4s 131ms/step - loss: 1.3450e-04 - val_loss: 0.0022\n",
      "Epoch 43/100\n",
      "30/30 [==============================] - 4s 130ms/step - loss: 1.4426e-04 - val_loss: 0.0024\n",
      "Epoch 44/100\n",
      "30/30 [==============================] - 4s 139ms/step - loss: 1.3228e-04 - val_loss: 0.0013\n",
      "Epoch 45/100\n",
      "30/30 [==============================] - 4s 149ms/step - loss: 1.2624e-04 - val_loss: 0.0014\n",
      "Epoch 46/100\n",
      "30/30 [==============================] - 4s 131ms/step - loss: 1.4673e-04 - val_loss: 9.9196e-04\n",
      "Epoch 47/100\n",
      "30/30 [==============================] - 4s 131ms/step - loss: 1.2319e-04 - val_loss: 0.0016\n",
      "Epoch 48/100\n",
      "30/30 [==============================] - 4s 140ms/step - loss: 1.4482e-04 - val_loss: 9.3698e-04\n",
      "Epoch 49/100\n",
      "30/30 [==============================] - 4s 148ms/step - loss: 1.2106e-04 - val_loss: 0.0016\n",
      "Epoch 50/100\n",
      "30/30 [==============================] - 4s 132ms/step - loss: 1.1779e-04 - val_loss: 9.0470e-04\n",
      "Epoch 51/100\n",
      "30/30 [==============================] - 4s 131ms/step - loss: 1.2411e-04 - val_loss: 8.5938e-04\n",
      "Epoch 52/100\n",
      "30/30 [==============================] - 4s 142ms/step - loss: 1.2825e-04 - val_loss: 0.0013\n",
      "Epoch 53/100\n",
      "30/30 [==============================] - 4s 146ms/step - loss: 1.3849e-04 - val_loss: 0.0014\n",
      "Epoch 54/100\n",
      "30/30 [==============================] - 4s 130ms/step - loss: 1.0522e-04 - val_loss: 0.0012\n",
      "Epoch 55/100\n",
      "30/30 [==============================] - 4s 143ms/step - loss: 1.0333e-04 - val_loss: 9.0812e-04\n",
      "Epoch 56/100\n",
      "30/30 [==============================] - 4s 150ms/step - loss: 1.0743e-04 - val_loss: 8.3925e-04\n",
      "Epoch 57/100\n",
      "30/30 [==============================] - 4s 140ms/step - loss: 1.1160e-04 - val_loss: 9.0650e-04\n",
      "Epoch 58/100\n",
      "30/30 [==============================] - 4s 129ms/step - loss: 1.1598e-04 - val_loss: 6.8729e-04\n",
      "Epoch 59/100\n",
      "30/30 [==============================] - 4s 131ms/step - loss: 1.1546e-04 - val_loss: 7.6289e-04\n",
      "Epoch 60/100\n",
      "30/30 [==============================] - 4s 149ms/step - loss: 9.0383e-05 - val_loss: 0.0011\n",
      "Epoch 61/100\n",
      "30/30 [==============================] - 4s 138ms/step - loss: 8.5805e-05 - val_loss: 8.0023e-04\n",
      "Epoch 62/100\n",
      "30/30 [==============================] - 4s 131ms/step - loss: 8.6261e-05 - val_loss: 6.0095e-04\n",
      "Epoch 63/100\n",
      "30/30 [==============================] - 4s 131ms/step - loss: 1.0842e-04 - val_loss: 0.0018\n",
      "Epoch 64/100\n",
      "30/30 [==============================] - 5s 151ms/step - loss: 9.6324e-05 - val_loss: 5.7753e-04\n",
      "Epoch 65/100\n",
      "30/30 [==============================] - 5s 169ms/step - loss: 7.8556e-05 - val_loss: 8.2447e-04\n",
      "Epoch 66/100\n",
      "30/30 [==============================] - 4s 131ms/step - loss: 7.7904e-05 - val_loss: 7.1122e-04\n",
      "Epoch 67/100\n",
      "30/30 [==============================] - 4s 141ms/step - loss: 7.7072e-05 - val_loss: 5.7402e-04\n",
      "Epoch 68/100\n",
      "30/30 [==============================] - 4s 148ms/step - loss: 7.3392e-05 - val_loss: 5.9282e-04\n",
      "Epoch 69/100\n",
      "30/30 [==============================] - 4s 131ms/step - loss: 8.1818e-05 - val_loss: 5.8909e-04\n",
      "Epoch 70/100\n",
      "30/30 [==============================] - 4s 130ms/step - loss: 6.6447e-05 - val_loss: 5.2401e-04\n",
      "Epoch 71/100\n",
      "30/30 [==============================] - 4s 151ms/step - loss: 6.6557e-05 - val_loss: 9.7588e-04\n",
      "Epoch 72/100\n",
      "30/30 [==============================] - 4s 148ms/step - loss: 6.9151e-05 - val_loss: 0.0015\n",
      "Epoch 73/100\n",
      "30/30 [==============================] - 4s 130ms/step - loss: 7.4375e-05 - val_loss: 6.1911e-04\n",
      "Epoch 74/100\n",
      "30/30 [==============================] - 4s 139ms/step - loss: 7.3895e-05 - val_loss: 5.5993e-04\n",
      "Epoch 75/100\n",
      "30/30 [==============================] - 4s 147ms/step - loss: 7.5954e-05 - val_loss: 7.0526e-04\n",
      "Epoch 76/100\n",
      "30/30 [==============================] - 4s 147ms/step - loss: 5.9734e-05 - val_loss: 5.6998e-04\n",
      "Epoch 77/100\n"
     ]
    },
    {
     "name": "stdout",
     "output_type": "stream",
     "text": [
      "30/30 [==============================] - 4s 139ms/step - loss: 5.8371e-05 - val_loss: 8.8340e-04\n",
      "Epoch 78/100\n",
      "30/30 [==============================] - 4s 148ms/step - loss: 5.9945e-05 - val_loss: 6.0301e-04\n",
      "Epoch 79/100\n",
      "30/30 [==============================] - 5s 150ms/step - loss: 5.7469e-05 - val_loss: 6.2172e-04\n",
      "Epoch 80/100\n",
      "30/30 [==============================] - 4s 132ms/step - loss: 5.6710e-05 - val_loss: 6.5296e-04\n",
      "Epoch 81/100\n",
      "30/30 [==============================] - 4s 128ms/step - loss: 5.8063e-05 - val_loss: 6.8760e-04\n",
      "Epoch 82/100\n",
      "30/30 [==============================] - 4s 132ms/step - loss: 5.6382e-05 - val_loss: 8.1537e-04\n",
      "Epoch 83/100\n",
      "30/30 [==============================] - 5s 157ms/step - loss: 5.5124e-05 - val_loss: 7.9539e-04\n",
      "Epoch 84/100\n",
      "30/30 [==============================] - 4s 136ms/step - loss: 5.5509e-05 - val_loss: 9.8271e-04\n",
      "Epoch 85/100\n",
      "30/30 [==============================] - 4s 129ms/step - loss: 5.3918e-05 - val_loss: 8.5473e-04\n",
      "Epoch 86/100\n",
      "30/30 [==============================] - 4s 140ms/step - loss: 6.2002e-05 - val_loss: 9.3655e-04\n",
      "Epoch 87/100\n",
      "30/30 [==============================] - 5s 156ms/step - loss: 5.6787e-05 - val_loss: 9.6933e-04\n",
      "Epoch 88/100\n",
      "30/30 [==============================] - 4s 132ms/step - loss: 5.9377e-05 - val_loss: 0.0010\n",
      "Epoch 89/100\n",
      "30/30 [==============================] - 4s 129ms/step - loss: 5.9069e-05 - val_loss: 0.0014\n",
      "Epoch 90/100\n",
      "30/30 [==============================] - 4s 142ms/step - loss: 5.4526e-05 - val_loss: 0.0011\n",
      "Epoch 91/100\n",
      "30/30 [==============================] - 4s 144ms/step - loss: 5.8014e-05 - val_loss: 0.0011\n",
      "Epoch 92/100\n",
      "30/30 [==============================] - 4s 132ms/step - loss: 5.7205e-05 - val_loss: 0.0014\n",
      "Epoch 93/100\n",
      "30/30 [==============================] - 4s 140ms/step - loss: 5.4910e-05 - val_loss: 0.0013\n",
      "Epoch 94/100\n",
      "30/30 [==============================] - 4s 149ms/step - loss: 5.3751e-05 - val_loss: 0.0012\n",
      "Epoch 95/100\n",
      "30/30 [==============================] - 4s 143ms/step - loss: 6.0779e-05 - val_loss: 0.0012\n",
      "Epoch 96/100\n",
      "30/30 [==============================] - 4s 131ms/step - loss: 5.5828e-05 - val_loss: 0.0011\n",
      "Epoch 97/100\n",
      "30/30 [==============================] - 4s 130ms/step - loss: 5.6092e-05 - val_loss: 0.0011\n",
      "Epoch 98/100\n",
      "30/30 [==============================] - 4s 149ms/step - loss: 5.4670e-05 - val_loss: 0.0011\n",
      "Epoch 99/100\n",
      "30/30 [==============================] - 4s 143ms/step - loss: 5.5131e-05 - val_loss: 0.0011\n",
      "Epoch 100/100\n",
      "30/30 [==============================] - 4s 141ms/step - loss: 5.9163e-05 - val_loss: 0.0011\n"
     ]
    },
    {
     "data": {
      "text/plain": [
       "<keras.src.callbacks.History at 0x1b36fb4d190>"
      ]
     },
     "execution_count": 49,
     "metadata": {},
     "output_type": "execute_result"
    }
   ],
   "source": [
    "#Fit network\n",
    "\n",
    "#Fit RNN model to the training set\n",
    "model_lstm.fit(X_train,Y_train,validation_data=(X_test,Y_test),epochs=100,batch_size=64,verbose=1)"
   ]
  },
  {
   "cell_type": "code",
   "execution_count": 50,
   "id": "c6d44673",
   "metadata": {},
   "outputs": [],
   "source": [
    "import matplotlib.pyplot as plt"
   ]
  },
  {
   "cell_type": "code",
   "execution_count": 51,
   "id": "e9c04ca1",
   "metadata": {},
   "outputs": [
    {
     "data": {
      "image/png": "[encoded data removed]",
      "text/plain": [
       "<Figure size 640x480 with 1 Axes>"
      ]
     },
     "metadata": {},
     "output_type": "display_data"
    }
   ],
   "source": [
    "#Evaluate network\n",
    "\n",
    "# loss value of LSTM model\n",
    "loss_per_epoch = model_lstm.history.history['loss']\n",
    "plt.plot(range(len(loss_per_epoch)),loss_per_epoch)\n",
    "plt.xlabel('epochs')\n",
    "plt.ylabel('loss value range')\n",
    "plt.show()"
   ]
  },
  {
   "cell_type": "code",
   "execution_count": 52,
   "id": "1d64387a",
   "metadata": {},
   "outputs": [],
   "source": [
    "history = model_lstm.history.history"
   ]
  },
  {
   "cell_type": "code",
   "execution_count": 53,
   "id": "7d49ec90",
   "metadata": {},
   "outputs": [
    {
     "name": "stdout",
     "output_type": "stream",
     "text": [
      "loss\n",
      "val_loss\n"
     ]
    }
   ],
   "source": [
    "for key in history.keys():\n",
    "  print(key)"
   ]
  },
  {
   "cell_type": "code",
   "execution_count": 54,
   "id": "38d722c5",
   "metadata": {},
   "outputs": [],
   "source": [
    "def plot_metrics(history):\n",
    "\n",
    "  train_loss = history['loss']\n",
    "  val_loss = history['val_loss']\n",
    "\n",
    "  #loss\n",
    "  plt.figure()\n",
    "  plt.plot(train_loss, label='Training loss')\n",
    "  plt.plot(val_loss, label='validation loss')\n",
    "  plt.title('loss')\n",
    "  plt.xlabel('epochs')\n",
    "  plt.ylabel('validation loss range')\n",
    "  plt.legend()\n",
    "  plt.show()"
   ]
  },
  {
   "cell_type": "code",
   "execution_count": 55,
   "id": "47f04525",
   "metadata": {},
   "outputs": [
    {
     "data": {
      "image/png": "[encoded data removed]",
      "text/plain": [
       "<Figure size 640x480 with 1 Axes>"
      ]
     },
     "metadata": {},
     "output_type": "display_data"
    }
   ],
   "source": [
    "plot_metrics(history)"
   ]
  },
  {
   "cell_type": "code",
   "execution_count": 56,
   "id": "b8882858",
   "metadata": {},
   "outputs": [
    {
     "name": "stdout",
     "output_type": "stream",
     "text": [
      "13/13 [==============================] - 1s 25ms/step\n"
     ]
    }
   ],
   "source": [
    "#Make prediction\n",
    "\n",
    "#Lets do the prediction and check the performance metrics for LSTM\n",
    "test_predict_lstm=model_lstm.predict(X_test)"
   ]
  },
  {
   "cell_type": "code",
   "execution_count": 57,
   "id": "ae86dc0a",
   "metadata": {},
   "outputs": [],
   "source": [
    "# transform back to original form\n",
    "test_predictlstm=scaler.inverse_transform(test_predict_lstm)"
   ]
  },
  {
   "cell_type": "code",
   "execution_count": 58,
   "id": "3697edfb",
   "metadata": {},
   "outputs": [],
   "source": [
    "# Calculate RMSE performance metrics for LSTM\n",
    "import math\n",
    "from sklearn.metrics import mean_squared_error"
   ]
  },
  {
   "cell_type": "code",
   "execution_count": 59,
   "id": "316effda",
   "metadata": {},
   "outputs": [
    {
     "data": {
      "text/plain": [
       "115.28763790466337"
      ]
     },
     "execution_count": 59,
     "metadata": {},
     "output_type": "execute_result"
    }
   ],
   "source": [
    "# Test data RMSE for LSTM\n",
    "math.sqrt(mean_squared_error(Y_test,test_predictlstm))"
   ]
  },
  {
   "cell_type": "code",
   "execution_count": 64,
   "id": "f2b0e7d8",
   "metadata": {
    "scrolled": true
   },
   "outputs": [],
   "source": [
    "# Importing libraries for creation of CNN model\n",
    "from keras.layers import Flatten\n",
    "from keras.layers import Conv1D, MaxPooling1D"
   ]
  },
  {
   "cell_type": "code",
   "execution_count": 65,
   "id": "76593299",
   "metadata": {},
   "outputs": [],
   "source": [
    "#Defining network\n",
    "\n",
    "# creation of CNN model\n",
    "#Initializing the RNN(sequential)\n",
    "model_cnn=Sequential()\n",
    "model_cnn.add(Conv1D(filters=256, kernel_size=2, activation='relu', input_shape=(100,1)))\n",
    "model_cnn.add(MaxPooling1D(pool_size=2))\n",
    "model_cnn.add(Flatten())\n",
    "#Output layer\n",
    "model_cnn.add(Dense(1000, activation='relu'))\n",
    "model_cnn.add(Dense(500, activation='relu'))\n",
    "model_cnn.add(Dense(200, activation='relu'))\n",
    "model_cnn.add(Dense(1))\n",
    "#Compile network\n",
    "\n",
    "#compile RNN model\n",
    "model_cnn.compile(optimizer='adam', loss='mse')"
   ]
  },
  {
   "cell_type": "code",
   "execution_count": 66,
   "id": "8ea5348e",
   "metadata": {},
   "outputs": [
    {
     "name": "stdout",
     "output_type": "stream",
     "text": [
      "Model: \"sequential_1\"\n",
      "_________________________________________________________________\n",
      " Layer (type)                Output Shape              Param #   \n",
      "=================================================================\n",
      " conv1d (Conv1D)             (None, 99, 256)           768       \n",
      "                                                                 \n",
      " max_pooling1d (MaxPooling1  (None, 49, 256)           0         \n",
      " D)                                                              \n",
      "                                                                 \n",
      " flatten (Flatten)           (None, 12544)             0         \n",
      "                                                                 \n",
      " dense_1 (Dense)             (None, 1000)              12545000  \n",
      "                                                                 \n",
      " dense_2 (Dense)             (None, 500)               500500    \n",
      "                                                                 \n",
      " dense_3 (Dense)             (None, 200)               100200    \n",
      "                                                                 \n",
      " dense_4 (Dense)             (None, 1)                 201       \n",
      "                                                                 \n",
      "=================================================================\n",
      "Total params: 13146669 (50.15 MB)\n",
      "Trainable params: 13146669 (50.15 MB)\n",
      "Non-trainable params: 0 (0.00 Byte)\n",
      "_________________________________________________________________\n"
     ]
    }
   ],
   "source": [
    "model_cnn.summary()"
   ]
  },
  {
   "cell_type": "code",
   "execution_count": 67,
   "id": "b3cf8cf3",
   "metadata": {},
   "outputs": [
    {
     "name": "stdout",
     "output_type": "stream",
     "text": [
      "Epoch 1/100\n",
      "30/30 [==============================] - 7s 217ms/step - loss: 0.0116 - val_loss: 0.0093\n",
      "Epoch 2/100\n",
      "30/30 [==============================] - 7s 239ms/step - loss: 4.9333e-04 - val_loss: 0.0158\n",
      "Epoch 3/100\n",
      "30/30 [==============================] - 8s 259ms/step - loss: 4.8425e-04 - val_loss: 0.0038\n",
      "Epoch 4/100\n",
      "30/30 [==============================] - 7s 226ms/step - loss: 4.0354e-04 - val_loss: 0.0032\n",
      "Epoch 5/100\n",
      "30/30 [==============================] - 8s 256ms/step - loss: 3.7122e-04 - val_loss: 0.0261\n",
      "Epoch 6/100\n",
      "30/30 [==============================] - 7s 218ms/step - loss: 5.0445e-04 - val_loss: 0.0031\n",
      "Epoch 7/100\n",
      "30/30 [==============================] - 7s 218ms/step - loss: 2.3235e-04 - val_loss: 0.0027\n",
      "Epoch 8/100\n",
      "30/30 [==============================] - 6s 207ms/step - loss: 2.0967e-04 - val_loss: 0.0027\n",
      "Epoch 9/100\n",
      "30/30 [==============================] - 7s 218ms/step - loss: 3.7902e-04 - val_loss: 0.0216\n",
      "Epoch 10/100\n",
      "30/30 [==============================] - 6s 209ms/step - loss: 6.2638e-04 - val_loss: 0.0077\n",
      "Epoch 11/100\n",
      "30/30 [==============================] - 6s 214ms/step - loss: 3.5714e-04 - val_loss: 0.0052\n",
      "Epoch 12/100\n",
      "30/30 [==============================] - 7s 226ms/step - loss: 2.0654e-04 - val_loss: 0.0029\n",
      "Epoch 13/100\n",
      "30/30 [==============================] - 6s 210ms/step - loss: 1.7542e-04 - val_loss: 0.0032\n",
      "Epoch 14/100\n",
      "30/30 [==============================] - 6s 215ms/step - loss: 1.6707e-04 - val_loss: 0.0031\n",
      "Epoch 15/100\n",
      "30/30 [==============================] - 6s 209ms/step - loss: 1.6731e-04 - val_loss: 0.0046\n",
      "Epoch 16/100\n",
      "30/30 [==============================] - 7s 221ms/step - loss: 2.4302e-04 - val_loss: 0.0058\n",
      "Epoch 17/100\n",
      "30/30 [==============================] - 8s 257ms/step - loss: 2.5905e-04 - val_loss: 0.0050\n",
      "Epoch 18/100\n",
      "30/30 [==============================] - 6s 214ms/step - loss: 1.8475e-04 - val_loss: 0.0030\n",
      "Epoch 19/100\n",
      "30/30 [==============================] - 7s 220ms/step - loss: 1.4694e-04 - val_loss: 0.0029\n",
      "Epoch 20/100\n",
      "30/30 [==============================] - 6s 209ms/step - loss: 1.6065e-04 - val_loss: 0.0036\n",
      "Epoch 21/100\n",
      "30/30 [==============================] - 7s 225ms/step - loss: 1.5692e-04 - val_loss: 0.0030\n",
      "Epoch 22/100\n",
      "30/30 [==============================] - 7s 221ms/step - loss: 1.4688e-04 - val_loss: 0.0050\n",
      "Epoch 23/100\n",
      "30/30 [==============================] - 6s 216ms/step - loss: 2.5363e-04 - val_loss: 0.0031\n",
      "Epoch 24/100\n",
      "30/30 [==============================] - 7s 225ms/step - loss: 1.4777e-04 - val_loss: 0.0041\n",
      "Epoch 25/100\n",
      "30/30 [==============================] - 6s 210ms/step - loss: 1.6150e-04 - val_loss: 0.0054\n",
      "Epoch 26/100\n",
      "30/30 [==============================] - 7s 220ms/step - loss: 1.7362e-04 - val_loss: 0.0050\n",
      "Epoch 27/100\n",
      "30/30 [==============================] - 7s 218ms/step - loss: 1.7584e-04 - val_loss: 0.0045\n",
      "Epoch 28/100\n",
      "30/30 [==============================] - 7s 219ms/step - loss: 1.5835e-04 - val_loss: 0.0029\n",
      "Epoch 29/100\n",
      "30/30 [==============================] - 7s 217ms/step - loss: 1.8897e-04 - val_loss: 0.0073\n",
      "Epoch 30/100\n",
      "30/30 [==============================] - 6s 211ms/step - loss: 2.1368e-04 - val_loss: 0.0026\n",
      "Epoch 31/100\n",
      "30/30 [==============================] - 7s 222ms/step - loss: 1.3484e-04 - val_loss: 0.0025\n",
      "Epoch 32/100\n",
      "30/30 [==============================] - 6s 214ms/step - loss: 1.5991e-04 - val_loss: 0.0025\n",
      "Epoch 33/100\n",
      "30/30 [==============================] - 7s 219ms/step - loss: 1.5742e-04 - val_loss: 0.0047\n",
      "Epoch 34/100\n",
      "30/30 [==============================] - 7s 238ms/step - loss: 1.2619e-04 - val_loss: 0.0029\n",
      "Epoch 35/100\n",
      "30/30 [==============================] - 6s 213ms/step - loss: 1.4881e-04 - val_loss: 0.0066\n",
      "Epoch 36/100\n",
      "30/30 [==============================] - 7s 222ms/step - loss: 1.9062e-04 - val_loss: 0.0029\n",
      "Epoch 37/100\n",
      "30/30 [==============================] - 6s 209ms/step - loss: 1.2140e-04 - val_loss: 0.0023\n",
      "Epoch 38/100\n",
      "30/30 [==============================] - 7s 223ms/step - loss: 1.2247e-04 - val_loss: 0.0021\n",
      "Epoch 39/100\n",
      "30/30 [==============================] - 7s 218ms/step - loss: 1.4981e-04 - val_loss: 0.0028\n",
      "Epoch 40/100\n",
      "30/30 [==============================] - 7s 219ms/step - loss: 1.2785e-04 - val_loss: 0.0031\n",
      "Epoch 41/100\n",
      "30/30 [==============================] - 7s 222ms/step - loss: 1.1696e-04 - val_loss: 0.0028\n",
      "Epoch 42/100\n",
      "30/30 [==============================] - 6s 210ms/step - loss: 1.1775e-04 - val_loss: 0.0024\n",
      "Epoch 43/100\n",
      "30/30 [==============================] - 7s 223ms/step - loss: 1.6191e-04 - val_loss: 0.0026\n",
      "Epoch 44/100\n",
      "30/30 [==============================] - 7s 225ms/step - loss: 1.4728e-04 - val_loss: 0.0111\n",
      "Epoch 45/100\n",
      "30/30 [==============================] - 6s 215ms/step - loss: 1.7467e-04 - val_loss: 0.0032\n",
      "Epoch 46/100\n",
      "30/30 [==============================] - 7s 222ms/step - loss: 1.2130e-04 - val_loss: 0.0027\n",
      "Epoch 47/100\n",
      "30/30 [==============================] - 6s 211ms/step - loss: 1.1330e-04 - val_loss: 0.0023\n",
      "Epoch 48/100\n",
      "30/30 [==============================] - 7s 222ms/step - loss: 1.1705e-04 - val_loss: 0.0048\n",
      "Epoch 49/100\n",
      "30/30 [==============================] - 6s 210ms/step - loss: 1.3168e-04 - val_loss: 0.0026\n",
      "Epoch 50/100\n",
      "30/30 [==============================] - 7s 218ms/step - loss: 1.4591e-04 - val_loss: 0.0053\n",
      "Epoch 51/100\n",
      "30/30 [==============================] - 7s 222ms/step - loss: 1.7068e-04 - val_loss: 0.0049\n",
      "Epoch 52/100\n",
      "30/30 [==============================] - 6s 210ms/step - loss: 1.2165e-04 - val_loss: 0.0035\n",
      "Epoch 53/100\n",
      "30/30 [==============================] - 7s 218ms/step - loss: 1.3033e-04 - val_loss: 0.0032\n",
      "Epoch 54/100\n",
      "30/30 [==============================] - 6s 210ms/step - loss: 1.0497e-04 - val_loss: 0.0036\n",
      "Epoch 55/100\n",
      "30/30 [==============================] - 6s 215ms/step - loss: 1.4005e-04 - val_loss: 0.0037\n",
      "Epoch 56/100\n",
      "30/30 [==============================] - 7s 218ms/step - loss: 9.8581e-05 - val_loss: 0.0029\n",
      "Epoch 57/100\n",
      "30/30 [==============================] - 6s 211ms/step - loss: 1.0693e-04 - val_loss: 0.0038\n",
      "Epoch 58/100\n",
      "30/30 [==============================] - 7s 220ms/step - loss: 1.4160e-04 - val_loss: 0.0032\n",
      "Epoch 59/100\n",
      "30/30 [==============================] - 6s 209ms/step - loss: 1.1195e-04 - val_loss: 0.0039\n",
      "Epoch 60/100\n",
      "30/30 [==============================] - 6s 214ms/step - loss: 1.4012e-04 - val_loss: 0.0027\n",
      "Epoch 61/100\n",
      "30/30 [==============================] - 8s 265ms/step - loss: 1.0883e-04 - val_loss: 0.0028\n",
      "Epoch 62/100\n",
      "30/30 [==============================] - 6s 215ms/step - loss: 9.9868e-05 - val_loss: 0.0030\n",
      "Epoch 63/100\n",
      "30/30 [==============================] - 7s 221ms/step - loss: 1.3291e-04 - val_loss: 0.0045\n",
      "Epoch 64/100\n",
      "30/30 [==============================] - 6s 209ms/step - loss: 1.3944e-04 - val_loss: 0.0039\n",
      "Epoch 65/100\n",
      "30/30 [==============================] - 7s 221ms/step - loss: 1.2811e-04 - val_loss: 0.0034\n",
      "Epoch 66/100\n",
      "30/30 [==============================] - 6s 215ms/step - loss: 9.8522e-05 - val_loss: 0.0032\n",
      "Epoch 67/100\n",
      "30/30 [==============================] - 7s 220ms/step - loss: 9.5210e-05 - val_loss: 0.0039\n",
      "Epoch 68/100\n",
      "30/30 [==============================] - 7s 219ms/step - loss: 1.0332e-04 - val_loss: 0.0030\n",
      "Epoch 69/100\n",
      "30/30 [==============================] - 6s 209ms/step - loss: 1.1823e-04 - val_loss: 0.0041\n",
      "Epoch 70/100\n",
      "30/30 [==============================] - 7s 220ms/step - loss: 1.1090e-04 - val_loss: 0.0039\n",
      "Epoch 71/100\n",
      "30/30 [==============================] - 6s 213ms/step - loss: 1.0346e-04 - val_loss: 0.0025\n",
      "Epoch 72/100\n",
      "30/30 [==============================] - 6s 218ms/step - loss: 9.6470e-05 - val_loss: 0.0029\n",
      "Epoch 73/100\n",
      "30/30 [==============================] - 7s 221ms/step - loss: 9.6469e-05 - val_loss: 0.0029\n",
      "Epoch 74/100\n",
      "30/30 [==============================] - 6s 210ms/step - loss: 1.0867e-04 - val_loss: 0.0029\n",
      "Epoch 75/100\n",
      "30/30 [==============================] - 7s 221ms/step - loss: 1.5161e-04 - val_loss: 0.0045\n",
      "Epoch 76/100\n",
      "30/30 [==============================] - 6s 214ms/step - loss: 1.2119e-04 - val_loss: 0.0029\n",
      "Epoch 77/100\n",
      "30/30 [==============================] - 7s 225ms/step - loss: 1.1580e-04 - val_loss: 0.0041\n",
      "Epoch 78/100\n"
     ]
    },
    {
     "name": "stdout",
     "output_type": "stream",
     "text": [
      "30/30 [==============================] - 7s 218ms/step - loss: 1.6712e-04 - val_loss: 0.0057\n",
      "Epoch 79/100\n",
      "30/30 [==============================] - 6s 207ms/step - loss: 1.6569e-04 - val_loss: 0.0031\n",
      "Epoch 80/100\n",
      "30/30 [==============================] - 6s 216ms/step - loss: 1.2592e-04 - val_loss: 0.0039\n",
      "Epoch 81/100\n",
      "30/30 [==============================] - 6s 207ms/step - loss: 1.0345e-04 - val_loss: 0.0032\n",
      "Epoch 82/100\n",
      "30/30 [==============================] - 6s 214ms/step - loss: 1.0309e-04 - val_loss: 0.0034\n",
      "Epoch 83/100\n",
      "30/30 [==============================] - 6s 217ms/step - loss: 1.1288e-04 - val_loss: 0.0059\n",
      "Epoch 84/100\n",
      "30/30 [==============================] - 6s 210ms/step - loss: 1.0656e-04 - val_loss: 0.0032\n",
      "Epoch 85/100\n",
      "30/30 [==============================] - 7s 221ms/step - loss: 1.3563e-04 - val_loss: 0.0028\n",
      "Epoch 86/100\n",
      "30/30 [==============================] - 7s 216ms/step - loss: 1.1508e-04 - val_loss: 0.0031\n",
      "Epoch 87/100\n",
      "30/30 [==============================] - 7s 222ms/step - loss: 8.8292e-05 - val_loss: 0.0037\n",
      "Epoch 88/100\n",
      "30/30 [==============================] - 7s 217ms/step - loss: 1.0257e-04 - val_loss: 0.0030\n",
      "Epoch 89/100\n",
      "30/30 [==============================] - 6s 211ms/step - loss: 9.5049e-05 - val_loss: 0.0040\n",
      "Epoch 90/100\n",
      "30/30 [==============================] - 7s 222ms/step - loss: 1.0201e-04 - val_loss: 0.0043\n",
      "Epoch 91/100\n",
      "30/30 [==============================] - 6s 210ms/step - loss: 9.0275e-05 - val_loss: 0.0033\n",
      "Epoch 92/100\n",
      "30/30 [==============================] - 7s 219ms/step - loss: 9.3362e-05 - val_loss: 0.0036\n",
      "Epoch 93/100\n",
      "30/30 [==============================] - 6s 216ms/step - loss: 8.9724e-05 - val_loss: 0.0036\n",
      "Epoch 94/100\n",
      "30/30 [==============================] - 7s 223ms/step - loss: 8.6005e-05 - val_loss: 0.0033\n",
      "Epoch 95/100\n",
      "30/30 [==============================] - 7s 226ms/step - loss: 1.1247e-04 - val_loss: 0.0034\n",
      "Epoch 96/100\n",
      "30/30 [==============================] - 6s 209ms/step - loss: 9.4049e-05 - val_loss: 0.0033\n",
      "Epoch 97/100\n",
      "30/30 [==============================] - 7s 223ms/step - loss: 1.1567e-04 - val_loss: 0.0106\n",
      "Epoch 98/100\n",
      "30/30 [==============================] - 7s 216ms/step - loss: 1.3751e-04 - val_loss: 0.0061\n",
      "Epoch 99/100\n",
      "30/30 [==============================] - 7s 225ms/step - loss: 1.2407e-04 - val_loss: 0.0030\n",
      "Epoch 100/100\n",
      "30/30 [==============================] - 7s 220ms/step - loss: 9.0144e-05 - val_loss: 0.0036\n"
     ]
    },
    {
     "data": {
      "text/plain": [
       "<keras.src.callbacks.History at 0x1b37205f2d0>"
      ]
     },
     "execution_count": 67,
     "metadata": {},
     "output_type": "execute_result"
    }
   ],
   "source": [
    "#Fit network\n",
    "\n",
    "#Fit RNN model to the training set\n",
    "model_cnn.fit(X_train,Y_train,validation_data=(X_test,Y_test),epochs=100,batch_size=64,verbose=1)"
   ]
  },
  {
   "cell_type": "code",
   "execution_count": 68,
   "id": "a698d3e7",
   "metadata": {},
   "outputs": [
    {
     "data": {
      "image/png": "[encoded data removed]",
      "text/plain": [
       "<Figure size 640x480 with 1 Axes>"
      ]
     },
     "metadata": {},
     "output_type": "display_data"
    }
   ],
   "source": [
    "#Evaluate network\n",
    "\n",
    "#Loss value of CNN model\n",
    "loss_per_epoch = model_cnn.history.history['loss']\n",
    "plt.plot(range(len(loss_per_epoch)),loss_per_epoch)\n",
    "plt.xlabel('epochs')\n",
    "plt.ylabel('loss value range')\n",
    "plt.show()"
   ]
  },
  {
   "cell_type": "code",
   "execution_count": 69,
   "id": "66309aab",
   "metadata": {},
   "outputs": [],
   "source": [
    "history = model_cnn.history.history"
   ]
  },
  {
   "cell_type": "code",
   "execution_count": 70,
   "id": "94410bcf",
   "metadata": {},
   "outputs": [
    {
     "name": "stdout",
     "output_type": "stream",
     "text": [
      "loss\n",
      "val_loss\n"
     ]
    }
   ],
   "source": [
    "for key in history.keys():\n",
    "  print(key)"
   ]
  },
  {
   "cell_type": "code",
   "execution_count": 71,
   "id": "929f3c20",
   "metadata": {},
   "outputs": [],
   "source": [
    "def plot_metrics(history):\n",
    "\n",
    "  train_loss = history['loss']\n",
    "  val_loss = history['val_loss']\n",
    "\n",
    "  #loss\n",
    "  plt.figure()\n",
    "  plt.plot(train_loss, label='Training loss')\n",
    "  plt.plot(val_loss, label='validation loss')\n",
    "  plt.title('loss')\n",
    "  plt.xlabel('epochs')\n",
    "  plt.ylabel('validation loss range')\n",
    "  plt.legend()\n",
    "  plt.show()"
   ]
  },
  {
   "cell_type": "code",
   "execution_count": 72,
   "id": "dba83e64",
   "metadata": {},
   "outputs": [
    {
     "data": {
      "image/png": "[encoded data removed]",
      "text/plain": [
       "<Figure size 640x480 with 1 Axes>"
      ]
     },
     "metadata": {},
     "output_type": "display_data"
    }
   ],
   "source": [
    "plot_metrics(history)"
   ]
  },
  {
   "cell_type": "code",
   "execution_count": 73,
   "id": "873cfd09",
   "metadata": {},
   "outputs": [],
   "source": [
    "# 4TH MODULE DONE ----> CREATE RNN MODELS"
   ]
  },
  {
   "cell_type": "code",
   "execution_count": 74,
   "id": "9d1fc0af",
   "metadata": {},
   "outputs": [],
   "source": [
    "# 5TH MODULE -> PREDICTING THE FUTURE VALUE"
   ]
  },
  {
   "cell_type": "code",
   "execution_count": 75,
   "id": "636295d4",
   "metadata": {},
   "outputs": [
    {
     "name": "stdout",
     "output_type": "stream",
     "text": [
      "13/13 [==============================] - 0s 17ms/step\n"
     ]
    }
   ],
   "source": [
    "#Make prediction\n",
    "\n",
    "#Lets do the prediction and check the performance metrics for CNN\n",
    "test_predict_cnn=model_cnn.predict(X_test)"
   ]
  },
  {
   "cell_type": "code",
   "execution_count": 76,
   "id": "8476c8ab",
   "metadata": {},
   "outputs": [],
   "source": [
    "# transform back to original form\n",
    "test_predictcnn=scaler.inverse_transform(test_predict_cnn)"
   ]
  },
  {
   "cell_type": "code",
   "execution_count": 77,
   "id": "8aecffd3",
   "metadata": {},
   "outputs": [],
   "source": [
    "# Calculate RMSE performance metrics CNN\n",
    "import math\n",
    "from sklearn.metrics import mean_squared_error"
   ]
  },
  {
   "cell_type": "code",
   "execution_count": 78,
   "id": "6f5d2877",
   "metadata": {},
   "outputs": [
    {
     "data": {
      "text/plain": [
       "113.10658998129965"
      ]
     },
     "execution_count": 78,
     "metadata": {},
     "output_type": "execute_result"
    }
   ],
   "source": [
    "# Test data RMSE for CNN\n",
    "math.sqrt(mean_squared_error(Y_test,test_predictcnn))"
   ]
  },
  {
   "cell_type": "code",
   "execution_count": 79,
   "id": "7f82ae45",
   "metadata": {},
   "outputs": [],
   "source": [
    "RMSE_compare=pd.DataFrame({'Models':['LSTM MODEL','CNN MODEL'],'RMSE':[math.sqrt(mean_squared_error(Y_test,test_predictlstm)),math.sqrt(mean_squared_error(Y_test,test_predictcnn))]})"
   ]
  },
  {
   "cell_type": "code",
   "execution_count": 80,
   "id": "dafdeb62",
   "metadata": {},
   "outputs": [
    {
     "data": {
      "text/html": [
       "<div>\n",
       "<style scoped>\n",
       "    .dataframe tbody tr th:only-of-type {\n",
       "        vertical-align: middle;\n",
       "    }\n",
       "\n",
       "    .dataframe tbody tr th {\n",
       "        vertical-align: top;\n",
       "    }\n",
       "\n",
       "    .dataframe thead th {\n",
       "        text-align: right;\n",
       "    }\n",
       "</style>\n",
       "<table border=\"1\" class=\"dataframe\">\n",
       "  <thead>\n",
       "    <tr style=\"text-align: right;\">\n",
       "      <th></th>\n",
       "      <th>Models</th>\n",
       "      <th>RMSE</th>\n",
       "    </tr>\n",
       "  </thead>\n",
       "  <tbody>\n",
       "    <tr>\n",
       "      <th>0</th>\n",
       "      <td>LSTM MODEL</td>\n",
       "      <td>115.287638</td>\n",
       "    </tr>\n",
       "    <tr>\n",
       "      <th>1</th>\n",
       "      <td>CNN MODEL</td>\n",
       "      <td>113.106590</td>\n",
       "    </tr>\n",
       "  </tbody>\n",
       "</table>\n",
       "</div>"
      ],
      "text/plain": [
       "       Models        RMSE\n",
       "0  LSTM MODEL  115.287638\n",
       "1   CNN MODEL  113.106590"
      ]
     },
     "execution_count": 80,
     "metadata": {},
     "output_type": "execute_result"
    }
   ],
   "source": [
    "RMSE_compare"
   ]
  },
  {
   "cell_type": "code",
   "execution_count": 81,
   "id": "60b6c75f",
   "metadata": {},
   "outputs": [
    {
     "data": {
      "text/plain": [
       "493"
      ]
     },
     "execution_count": 81,
     "metadata": {},
     "output_type": "execute_result"
    }
   ],
   "source": [
    "len(test_data)"
   ]
  },
  {
   "cell_type": "code",
   "execution_count": 82,
   "id": "b2d5509d",
   "metadata": {},
   "outputs": [],
   "source": [
    "a=len(test_data)-time_step"
   ]
  },
  {
   "cell_type": "code",
   "execution_count": 83,
   "id": "522ae3cb",
   "metadata": {},
   "outputs": [
    {
     "data": {
      "text/plain": [
       "(1, 100)"
      ]
     },
     "execution_count": 83,
     "metadata": {},
     "output_type": "execute_result"
    }
   ],
   "source": [
    "#Taking previous 100 days values\n",
    "x_input=test_data[a:].reshape(1,-1)\n",
    "x_input.shape"
   ]
  },
  {
   "cell_type": "code",
   "execution_count": 84,
   "id": "f9eaea28",
   "metadata": {},
   "outputs": [],
   "source": [
    "#Converting the values to list\n",
    "temp_input=list(x_input)\n",
    "temp_input=temp_input[0].tolist()"
   ]
  },
  {
   "cell_type": "code",
   "execution_count": 85,
   "id": "cbb74395",
   "metadata": {},
   "outputs": [
    {
     "data": {
      "text/plain": [
       "[0.614398881640261,\n",
       " 0.6089498992874968,\n",
       " 0.6487087379370472,\n",
       " 0.6423202657607553,\n",
       " 0.6452890674322822,\n",
       " 0.6514520638547336,\n",
       " 0.6573895995550613,\n",
       " 0.6709181147220636,\n",
       " 0.6602080464780687,\n",
       " 0.6683251360370382,\n",
       " 0.6611099119141389,\n",
       " 0.6748263911854013,\n",
       " 0.6433349292006134,\n",
       " 0.6274389035865677,\n",
       " 0.603576030424195,\n",
       " 0.6067326759462467,\n",
       " 0.5792246640411268,\n",
       " 0.5357453927787633,\n",
       " 0.5395033220094401,\n",
       " 0.5054564906953674,\n",
       " 0.5230436295583683,\n",
       " 0.4879445329645552,\n",
       " 0.49034960015633,\n",
       " 0.49903046929020245,\n",
       " 0.5103042569822326,\n",
       " 0.5186092430027359,\n",
       " 0.5206385623665936,\n",
       " 0.5097029732736074,\n",
       " 0.5140621862129093,\n",
       " 0.5003081501969155,\n",
       " 0.5045170083876982,\n",
       " 0.5030138592430029,\n",
       " 0.5344677118720501,\n",
       " 0.5238703213781079,\n",
       " 0.5440504464419927,\n",
       " 0.5360460346330759,\n",
       " 0.538112910741665,\n",
       " 0.5404804211887083,\n",
       " 0.5222919986170822,\n",
       " 0.5376995310104321,\n",
       " 0.5490860565793825,\n",
       " 0.5558503367104591,\n",
       " 0.5602471063944925,\n",
       " 0.5615624041728047,\n",
       " 0.5800889727324655,\n",
       " 0.5716711887081743,\n",
       " 0.5791119261642066,\n",
       " 0.6122568319153414,\n",
       " 0.666746805760154,\n",
       " 0.6716321287917507,\n",
       " 0.6622373057150589,\n",
       " 0.6626131211857019,\n",
       " 0.6674983840904308,\n",
       " 0.6648678411448157,\n",
       " 0.6637404548597542,\n",
       " 0.6787721717824611,\n",
       " 0.6780205934521842,\n",
       " 0.7047019210534228,\n",
       " 0.7073324564831797,\n",
       " 0.7035745272525029,\n",
       " 0.7039503427231459,\n",
       " 0.6851606965697623,\n",
       " 0.647581404262995,\n",
       " 0.666746805760154,\n",
       " 0.6588551919550252,\n",
       " 0.6566004118690437,\n",
       " 0.6648678411448157,\n",
       " 0.646078194991432,\n",
       " 0.6720079442623937,\n",
       " 0.6577278056699637,\n",
       " 0.6509635180230287,\n",
       " 0.6614857349006404,\n",
       " 0.6742626642215075,\n",
       " 0.666746805760154,\n",
       " 0.6535940534527854,\n",
       " 0.652466667167724,\n",
       " 0.667874199561074,\n",
       " 0.667874199561074,\n",
       " 0.6783964164386858,\n",
       " 0.6622373057150589,\n",
       " 0.652466667167724,\n",
       " 0.6329254426840635,\n",
       " 0.6532182981090101,\n",
       " 0.6430718440910321,\n",
       " 0.6366833719147402,\n",
       " 0.64194451041698,\n",
       " 0.6084989026846648,\n",
       " 0.591964044133121,\n",
       " 0.5735501533235127,\n",
       " 0.5859513273006044,\n",
       " 0.6043652181102127,\n",
       " 0.5972251149926345,\n",
       " 0.6182695487478581,\n",
       " 0.6363076165709649,\n",
       " 0.6344286519556265,\n",
       " 0.6336770210143403,\n",
       " 0.6122568319153414,\n",
       " 0.6137600411869045,\n",
       " 0.6103778673000031,\n",
       " 0.6103778673000031]"
      ]
     },
     "execution_count": 85,
     "metadata": {},
     "output_type": "execute_result"
    }
   ],
   "source": [
    "#previous 100 days Test data\n",
    "temp_input"
   ]
  },
  {
   "cell_type": "code",
   "execution_count": 86,
   "id": "f592f42c",
   "metadata": {},
   "outputs": [
    {
     "name": "stdout",
     "output_type": "stream",
     "text": [
      "[0.61793923]\n",
      "101\n",
      "1 day input [0.6089499  0.64870874 0.64232027 0.64528907 0.65145206 0.6573896\n",
      " 0.67091811 0.66020805 0.66832514 0.66110991 0.67482639 0.64333493\n",
      " 0.6274389  0.60357603 0.60673268 0.57922466 0.53574539 0.53950332\n",
      " 0.50545649 0.52304363 0.48794453 0.4903496  0.49903047 0.51030426\n",
      " 0.51860924 0.52063856 0.50970297 0.51406219 0.50030815 0.50451701\n",
      " 0.50301386 0.53446771 0.52387032 0.54405045 0.53604603 0.53811291\n",
      " 0.54048042 0.522292   0.53769953 0.54908606 0.55585034 0.56024711\n",
      " 0.5615624  0.58008897 0.57167119 0.57911193 0.61225683 0.66674681\n",
      " 0.67163213 0.66223731 0.66261312 0.66749838 0.66486784 0.66374045\n",
      " 0.67877217 0.67802059 0.70470192 0.70733246 0.70357453 0.70395034\n",
      " 0.6851607  0.6475814  0.66674681 0.65885519 0.65660041 0.66486784\n",
      " 0.64607819 0.67200794 0.65772781 0.65096352 0.66148573 0.67426266\n",
      " 0.66674681 0.65359405 0.65246667 0.6678742  0.6678742  0.67839642\n",
      " 0.66223731 0.65246667 0.63292544 0.6532183  0.64307184 0.63668337\n",
      " 0.64194451 0.6084989  0.59196404 0.57355015 0.58595133 0.60436522\n",
      " 0.59722511 0.61826955 0.63630762 0.63442865 0.63367702 0.61225683\n",
      " 0.61376004 0.61037787 0.61037787 0.61793923]\n",
      "1 day output [[0.6225865]]\n",
      "2 day input [0.64870874 0.64232027 0.64528907 0.65145206 0.6573896  0.67091811\n",
      " 0.66020805 0.66832514 0.66110991 0.67482639 0.64333493 0.6274389\n",
      " 0.60357603 0.60673268 0.57922466 0.53574539 0.53950332 0.50545649\n",
      " 0.52304363 0.48794453 0.4903496  0.49903047 0.51030426 0.51860924\n",
      " 0.52063856 0.50970297 0.51406219 0.50030815 0.50451701 0.50301386\n",
      " 0.53446771 0.52387032 0.54405045 0.53604603 0.53811291 0.54048042\n",
      " 0.522292   0.53769953 0.54908606 0.55585034 0.56024711 0.5615624\n",
      " 0.58008897 0.57167119 0.57911193 0.61225683 0.66674681 0.67163213\n",
      " 0.66223731 0.66261312 0.66749838 0.66486784 0.66374045 0.67877217\n",
      " 0.67802059 0.70470192 0.70733246 0.70357453 0.70395034 0.6851607\n",
      " 0.6475814  0.66674681 0.65885519 0.65660041 0.66486784 0.64607819\n",
      " 0.67200794 0.65772781 0.65096352 0.66148573 0.67426266 0.66674681\n",
      " 0.65359405 0.65246667 0.6678742  0.6678742  0.67839642 0.66223731\n",
      " 0.65246667 0.63292544 0.6532183  0.64307184 0.63668337 0.64194451\n",
      " 0.6084989  0.59196404 0.57355015 0.58595133 0.60436522 0.59722511\n",
      " 0.61826955 0.63630762 0.63442865 0.63367702 0.61225683 0.61376004\n",
      " 0.61037787 0.61037787 0.61793923 0.62258649]\n",
      "2 day output [[0.62550557]]\n",
      "3 day input [0.64232027 0.64528907 0.65145206 0.6573896  0.67091811 0.66020805\n",
      " 0.66832514 0.66110991 0.67482639 0.64333493 0.6274389  0.60357603\n",
      " 0.60673268 0.57922466 0.53574539 0.53950332 0.50545649 0.52304363\n",
      " 0.48794453 0.4903496  0.49903047 0.51030426 0.51860924 0.52063856\n",
      " 0.50970297 0.51406219 0.50030815 0.50451701 0.50301386 0.53446771\n",
      " 0.52387032 0.54405045 0.53604603 0.53811291 0.54048042 0.522292\n",
      " 0.53769953 0.54908606 0.55585034 0.56024711 0.5615624  0.58008897\n",
      " 0.57167119 0.57911193 0.61225683 0.66674681 0.67163213 0.66223731\n",
      " 0.66261312 0.66749838 0.66486784 0.66374045 0.67877217 0.67802059\n",
      " 0.70470192 0.70733246 0.70357453 0.70395034 0.6851607  0.6475814\n",
      " 0.66674681 0.65885519 0.65660041 0.66486784 0.64607819 0.67200794\n",
      " 0.65772781 0.65096352 0.66148573 0.67426266 0.66674681 0.65359405\n",
      " 0.65246667 0.6678742  0.6678742  0.67839642 0.66223731 0.65246667\n",
      " 0.63292544 0.6532183  0.64307184 0.63668337 0.64194451 0.6084989\n",
      " 0.59196404 0.57355015 0.58595133 0.60436522 0.59722511 0.61826955\n",
      " 0.63630762 0.63442865 0.63367702 0.61225683 0.61376004 0.61037787\n",
      " 0.61037787 0.61793923 0.62258649 0.62550557]\n",
      "3 day output [[0.62652373]]\n",
      "4 day input [0.64528907 0.65145206 0.6573896  0.67091811 0.66020805 0.66832514\n",
      " 0.66110991 0.67482639 0.64333493 0.6274389  0.60357603 0.60673268\n",
      " 0.57922466 0.53574539 0.53950332 0.50545649 0.52304363 0.48794453\n",
      " 0.4903496  0.49903047 0.51030426 0.51860924 0.52063856 0.50970297\n",
      " 0.51406219 0.50030815 0.50451701 0.50301386 0.53446771 0.52387032\n",
      " 0.54405045 0.53604603 0.53811291 0.54048042 0.522292   0.53769953\n",
      " 0.54908606 0.55585034 0.56024711 0.5615624  0.58008897 0.57167119\n",
      " 0.57911193 0.61225683 0.66674681 0.67163213 0.66223731 0.66261312\n",
      " 0.66749838 0.66486784 0.66374045 0.67877217 0.67802059 0.70470192\n",
      " 0.70733246 0.70357453 0.70395034 0.6851607  0.6475814  0.66674681\n",
      " 0.65885519 0.65660041 0.66486784 0.64607819 0.67200794 0.65772781\n",
      " 0.65096352 0.66148573 0.67426266 0.66674681 0.65359405 0.65246667\n",
      " 0.6678742  0.6678742  0.67839642 0.66223731 0.65246667 0.63292544\n",
      " 0.6532183  0.64307184 0.63668337 0.64194451 0.6084989  0.59196404\n",
      " 0.57355015 0.58595133 0.60436522 0.59722511 0.61826955 0.63630762\n",
      " 0.63442865 0.63367702 0.61225683 0.61376004 0.61037787 0.61037787\n",
      " 0.61793923 0.62258649 0.62550557 0.62652373]\n",
      "4 day output [[0.6261457]]\n",
      "5 day input [0.65145206 0.6573896  0.67091811 0.66020805 0.66832514 0.66110991\n",
      " 0.67482639 0.64333493 0.6274389  0.60357603 0.60673268 0.57922466\n",
      " 0.53574539 0.53950332 0.50545649 0.52304363 0.48794453 0.4903496\n",
      " 0.49903047 0.51030426 0.51860924 0.52063856 0.50970297 0.51406219\n",
      " 0.50030815 0.50451701 0.50301386 0.53446771 0.52387032 0.54405045\n",
      " 0.53604603 0.53811291 0.54048042 0.522292   0.53769953 0.54908606\n",
      " 0.55585034 0.56024711 0.5615624  0.58008897 0.57167119 0.57911193\n",
      " 0.61225683 0.66674681 0.67163213 0.66223731 0.66261312 0.66749838\n",
      " 0.66486784 0.66374045 0.67877217 0.67802059 0.70470192 0.70733246\n",
      " 0.70357453 0.70395034 0.6851607  0.6475814  0.66674681 0.65885519\n",
      " 0.65660041 0.66486784 0.64607819 0.67200794 0.65772781 0.65096352\n",
      " 0.66148573 0.67426266 0.66674681 0.65359405 0.65246667 0.6678742\n",
      " 0.6678742  0.67839642 0.66223731 0.65246667 0.63292544 0.6532183\n",
      " 0.64307184 0.63668337 0.64194451 0.6084989  0.59196404 0.57355015\n",
      " 0.58595133 0.60436522 0.59722511 0.61826955 0.63630762 0.63442865\n",
      " 0.63367702 0.61225683 0.61376004 0.61037787 0.61037787 0.61793923\n",
      " 0.62258649 0.62550557 0.62652373 0.62614572]\n",
      "5 day output [[0.62526405]]\n",
      "6 day input [0.6573896  0.67091811 0.66020805 0.66832514 0.66110991 0.67482639\n",
      " 0.64333493 0.6274389  0.60357603 0.60673268 0.57922466 0.53574539\n",
      " 0.53950332 0.50545649 0.52304363 0.48794453 0.4903496  0.49903047\n",
      " 0.51030426 0.51860924 0.52063856 0.50970297 0.51406219 0.50030815\n",
      " 0.50451701 0.50301386 0.53446771 0.52387032 0.54405045 0.53604603\n",
      " 0.53811291 0.54048042 0.522292   0.53769953 0.54908606 0.55585034\n",
      " 0.56024711 0.5615624  0.58008897 0.57167119 0.57911193 0.61225683\n",
      " 0.66674681 0.67163213 0.66223731 0.66261312 0.66749838 0.66486784\n",
      " 0.66374045 0.67877217 0.67802059 0.70470192 0.70733246 0.70357453\n",
      " 0.70395034 0.6851607  0.6475814  0.66674681 0.65885519 0.65660041\n",
      " 0.66486784 0.64607819 0.67200794 0.65772781 0.65096352 0.66148573\n",
      " 0.67426266 0.66674681 0.65359405 0.65246667 0.6678742  0.6678742\n",
      " 0.67839642 0.66223731 0.65246667 0.63292544 0.6532183  0.64307184\n",
      " 0.63668337 0.64194451 0.6084989  0.59196404 0.57355015 0.58595133\n",
      " 0.60436522 0.59722511 0.61826955 0.63630762 0.63442865 0.63367702\n",
      " 0.61225683 0.61376004 0.61037787 0.61037787 0.61793923 0.62258649\n",
      " 0.62550557 0.62652373 0.62614572 0.62526405]\n",
      "6 day output [[0.6246244]]\n",
      "7 day input [0.67091811 0.66020805 0.66832514 0.66110991 0.67482639 0.64333493\n",
      " 0.6274389  0.60357603 0.60673268 0.57922466 0.53574539 0.53950332\n",
      " 0.50545649 0.52304363 0.48794453 0.4903496  0.49903047 0.51030426\n",
      " 0.51860924 0.52063856 0.50970297 0.51406219 0.50030815 0.50451701\n",
      " 0.50301386 0.53446771 0.52387032 0.54405045 0.53604603 0.53811291\n",
      " 0.54048042 0.522292   0.53769953 0.54908606 0.55585034 0.56024711\n",
      " 0.5615624  0.58008897 0.57167119 0.57911193 0.61225683 0.66674681\n",
      " 0.67163213 0.66223731 0.66261312 0.66749838 0.66486784 0.66374045\n",
      " 0.67877217 0.67802059 0.70470192 0.70733246 0.70357453 0.70395034\n",
      " 0.6851607  0.6475814  0.66674681 0.65885519 0.65660041 0.66486784\n",
      " 0.64607819 0.67200794 0.65772781 0.65096352 0.66148573 0.67426266\n",
      " 0.66674681 0.65359405 0.65246667 0.6678742  0.6678742  0.67839642\n",
      " 0.66223731 0.65246667 0.63292544 0.6532183  0.64307184 0.63668337\n",
      " 0.64194451 0.6084989  0.59196404 0.57355015 0.58595133 0.60436522\n",
      " 0.59722511 0.61826955 0.63630762 0.63442865 0.63367702 0.61225683\n",
      " 0.61376004 0.61037787 0.61037787 0.61793923 0.62258649 0.62550557\n",
      " 0.62652373 0.62614572 0.62526405 0.62462437]\n",
      "7 day output [[0.624601]]\n",
      "8 day input [0.66020805 0.66832514 0.66110991 0.67482639 0.64333493 0.6274389\n",
      " 0.60357603 0.60673268 0.57922466 0.53574539 0.53950332 0.50545649\n",
      " 0.52304363 0.48794453 0.4903496  0.49903047 0.51030426 0.51860924\n",
      " 0.52063856 0.50970297 0.51406219 0.50030815 0.50451701 0.50301386\n",
      " 0.53446771 0.52387032 0.54405045 0.53604603 0.53811291 0.54048042\n",
      " 0.522292   0.53769953 0.54908606 0.55585034 0.56024711 0.5615624\n",
      " 0.58008897 0.57167119 0.57911193 0.61225683 0.66674681 0.67163213\n",
      " 0.66223731 0.66261312 0.66749838 0.66486784 0.66374045 0.67877217\n",
      " 0.67802059 0.70470192 0.70733246 0.70357453 0.70395034 0.6851607\n",
      " 0.6475814  0.66674681 0.65885519 0.65660041 0.66486784 0.64607819\n",
      " 0.67200794 0.65772781 0.65096352 0.66148573 0.67426266 0.66674681\n",
      " 0.65359405 0.65246667 0.6678742  0.6678742  0.67839642 0.66223731\n",
      " 0.65246667 0.63292544 0.6532183  0.64307184 0.63668337 0.64194451\n",
      " 0.6084989  0.59196404 0.57355015 0.58595133 0.60436522 0.59722511\n",
      " 0.61826955 0.63630762 0.63442865 0.63367702 0.61225683 0.61376004\n",
      " 0.61037787 0.61037787 0.61793923 0.62258649 0.62550557 0.62652373\n",
      " 0.62614572 0.62526405 0.62462437 0.62460101]\n",
      "8 day output [[0.625195]]\n",
      "9 day input [0.66832514 0.66110991 0.67482639 0.64333493 0.6274389  0.60357603\n",
      " 0.60673268 0.57922466 0.53574539 0.53950332 0.50545649 0.52304363\n",
      " 0.48794453 0.4903496  0.49903047 0.51030426 0.51860924 0.52063856\n",
      " 0.50970297 0.51406219 0.50030815 0.50451701 0.50301386 0.53446771\n",
      " 0.52387032 0.54405045 0.53604603 0.53811291 0.54048042 0.522292\n",
      " 0.53769953 0.54908606 0.55585034 0.56024711 0.5615624  0.58008897\n",
      " 0.57167119 0.57911193 0.61225683 0.66674681 0.67163213 0.66223731\n",
      " 0.66261312 0.66749838 0.66486784 0.66374045 0.67877217 0.67802059\n",
      " 0.70470192 0.70733246 0.70357453 0.70395034 0.6851607  0.6475814\n",
      " 0.66674681 0.65885519 0.65660041 0.66486784 0.64607819 0.67200794\n",
      " 0.65772781 0.65096352 0.66148573 0.67426266 0.66674681 0.65359405\n",
      " 0.65246667 0.6678742  0.6678742  0.67839642 0.66223731 0.65246667\n",
      " 0.63292544 0.6532183  0.64307184 0.63668337 0.64194451 0.6084989\n",
      " 0.59196404 0.57355015 0.58595133 0.60436522 0.59722511 0.61826955\n",
      " 0.63630762 0.63442865 0.63367702 0.61225683 0.61376004 0.61037787\n",
      " 0.61037787 0.61793923 0.62258649 0.62550557 0.62652373 0.62614572\n",
      " 0.62526405 0.62462437 0.62460101 0.62519503]\n"
     ]
    },
    {
     "name": "stdout",
     "output_type": "stream",
     "text": [
      "9 day output [[0.6261711]]\n",
      "10 day input [0.66110991 0.67482639 0.64333493 0.6274389  0.60357603 0.60673268\n",
      " 0.57922466 0.53574539 0.53950332 0.50545649 0.52304363 0.48794453\n",
      " 0.4903496  0.49903047 0.51030426 0.51860924 0.52063856 0.50970297\n",
      " 0.51406219 0.50030815 0.50451701 0.50301386 0.53446771 0.52387032\n",
      " 0.54405045 0.53604603 0.53811291 0.54048042 0.522292   0.53769953\n",
      " 0.54908606 0.55585034 0.56024711 0.5615624  0.58008897 0.57167119\n",
      " 0.57911193 0.61225683 0.66674681 0.67163213 0.66223731 0.66261312\n",
      " 0.66749838 0.66486784 0.66374045 0.67877217 0.67802059 0.70470192\n",
      " 0.70733246 0.70357453 0.70395034 0.6851607  0.6475814  0.66674681\n",
      " 0.65885519 0.65660041 0.66486784 0.64607819 0.67200794 0.65772781\n",
      " 0.65096352 0.66148573 0.67426266 0.66674681 0.65359405 0.65246667\n",
      " 0.6678742  0.6678742  0.67839642 0.66223731 0.65246667 0.63292544\n",
      " 0.6532183  0.64307184 0.63668337 0.64194451 0.6084989  0.59196404\n",
      " 0.57355015 0.58595133 0.60436522 0.59722511 0.61826955 0.63630762\n",
      " 0.63442865 0.63367702 0.61225683 0.61376004 0.61037787 0.61037787\n",
      " 0.61793923 0.62258649 0.62550557 0.62652373 0.62614572 0.62526405\n",
      " 0.62462437 0.62460101 0.62519503 0.62617111]\n",
      "10 day output [[0.6272322]]\n",
      "11 day input [0.67482639 0.64333493 0.6274389  0.60357603 0.60673268 0.57922466\n",
      " 0.53574539 0.53950332 0.50545649 0.52304363 0.48794453 0.4903496\n",
      " 0.49903047 0.51030426 0.51860924 0.52063856 0.50970297 0.51406219\n",
      " 0.50030815 0.50451701 0.50301386 0.53446771 0.52387032 0.54405045\n",
      " 0.53604603 0.53811291 0.54048042 0.522292   0.53769953 0.54908606\n",
      " 0.55585034 0.56024711 0.5615624  0.58008897 0.57167119 0.57911193\n",
      " 0.61225683 0.66674681 0.67163213 0.66223731 0.66261312 0.66749838\n",
      " 0.66486784 0.66374045 0.67877217 0.67802059 0.70470192 0.70733246\n",
      " 0.70357453 0.70395034 0.6851607  0.6475814  0.66674681 0.65885519\n",
      " 0.65660041 0.66486784 0.64607819 0.67200794 0.65772781 0.65096352\n",
      " 0.66148573 0.67426266 0.66674681 0.65359405 0.65246667 0.6678742\n",
      " 0.6678742  0.67839642 0.66223731 0.65246667 0.63292544 0.6532183\n",
      " 0.64307184 0.63668337 0.64194451 0.6084989  0.59196404 0.57355015\n",
      " 0.58595133 0.60436522 0.59722511 0.61826955 0.63630762 0.63442865\n",
      " 0.63367702 0.61225683 0.61376004 0.61037787 0.61037787 0.61793923\n",
      " 0.62258649 0.62550557 0.62652373 0.62614572 0.62526405 0.62462437\n",
      " 0.62460101 0.62519503 0.62617111 0.62723219]\n",
      "11 day output [[0.6281526]]\n",
      "12 day input [0.64333493 0.6274389  0.60357603 0.60673268 0.57922466 0.53574539\n",
      " 0.53950332 0.50545649 0.52304363 0.48794453 0.4903496  0.49903047\n",
      " 0.51030426 0.51860924 0.52063856 0.50970297 0.51406219 0.50030815\n",
      " 0.50451701 0.50301386 0.53446771 0.52387032 0.54405045 0.53604603\n",
      " 0.53811291 0.54048042 0.522292   0.53769953 0.54908606 0.55585034\n",
      " 0.56024711 0.5615624  0.58008897 0.57167119 0.57911193 0.61225683\n",
      " 0.66674681 0.67163213 0.66223731 0.66261312 0.66749838 0.66486784\n",
      " 0.66374045 0.67877217 0.67802059 0.70470192 0.70733246 0.70357453\n",
      " 0.70395034 0.6851607  0.6475814  0.66674681 0.65885519 0.65660041\n",
      " 0.66486784 0.64607819 0.67200794 0.65772781 0.65096352 0.66148573\n",
      " 0.67426266 0.66674681 0.65359405 0.65246667 0.6678742  0.6678742\n",
      " 0.67839642 0.66223731 0.65246667 0.63292544 0.6532183  0.64307184\n",
      " 0.63668337 0.64194451 0.6084989  0.59196404 0.57355015 0.58595133\n",
      " 0.60436522 0.59722511 0.61826955 0.63630762 0.63442865 0.63367702\n",
      " 0.61225683 0.61376004 0.61037787 0.61037787 0.61793923 0.62258649\n",
      " 0.62550557 0.62652373 0.62614572 0.62526405 0.62462437 0.62460101\n",
      " 0.62519503 0.62617111 0.62723219 0.62815261]\n",
      "12 day output [[0.62883615]]\n",
      "13 day input [0.6274389  0.60357603 0.60673268 0.57922466 0.53574539 0.53950332\n",
      " 0.50545649 0.52304363 0.48794453 0.4903496  0.49903047 0.51030426\n",
      " 0.51860924 0.52063856 0.50970297 0.51406219 0.50030815 0.50451701\n",
      " 0.50301386 0.53446771 0.52387032 0.54405045 0.53604603 0.53811291\n",
      " 0.54048042 0.522292   0.53769953 0.54908606 0.55585034 0.56024711\n",
      " 0.5615624  0.58008897 0.57167119 0.57911193 0.61225683 0.66674681\n",
      " 0.67163213 0.66223731 0.66261312 0.66749838 0.66486784 0.66374045\n",
      " 0.67877217 0.67802059 0.70470192 0.70733246 0.70357453 0.70395034\n",
      " 0.6851607  0.6475814  0.66674681 0.65885519 0.65660041 0.66486784\n",
      " 0.64607819 0.67200794 0.65772781 0.65096352 0.66148573 0.67426266\n",
      " 0.66674681 0.65359405 0.65246667 0.6678742  0.6678742  0.67839642\n",
      " 0.66223731 0.65246667 0.63292544 0.6532183  0.64307184 0.63668337\n",
      " 0.64194451 0.6084989  0.59196404 0.57355015 0.58595133 0.60436522\n",
      " 0.59722511 0.61826955 0.63630762 0.63442865 0.63367702 0.61225683\n",
      " 0.61376004 0.61037787 0.61037787 0.61793923 0.62258649 0.62550557\n",
      " 0.62652373 0.62614572 0.62526405 0.62462437 0.62460101 0.62519503\n",
      " 0.62617111 0.62723219 0.62815261 0.62883615]\n",
      "13 day output [[0.62930596]]\n",
      "14 day input [0.60357603 0.60673268 0.57922466 0.53574539 0.53950332 0.50545649\n",
      " 0.52304363 0.48794453 0.4903496  0.49903047 0.51030426 0.51860924\n",
      " 0.52063856 0.50970297 0.51406219 0.50030815 0.50451701 0.50301386\n",
      " 0.53446771 0.52387032 0.54405045 0.53604603 0.53811291 0.54048042\n",
      " 0.522292   0.53769953 0.54908606 0.55585034 0.56024711 0.5615624\n",
      " 0.58008897 0.57167119 0.57911193 0.61225683 0.66674681 0.67163213\n",
      " 0.66223731 0.66261312 0.66749838 0.66486784 0.66374045 0.67877217\n",
      " 0.67802059 0.70470192 0.70733246 0.70357453 0.70395034 0.6851607\n",
      " 0.6475814  0.66674681 0.65885519 0.65660041 0.66486784 0.64607819\n",
      " 0.67200794 0.65772781 0.65096352 0.66148573 0.67426266 0.66674681\n",
      " 0.65359405 0.65246667 0.6678742  0.6678742  0.67839642 0.66223731\n",
      " 0.65246667 0.63292544 0.6532183  0.64307184 0.63668337 0.64194451\n",
      " 0.6084989  0.59196404 0.57355015 0.58595133 0.60436522 0.59722511\n",
      " 0.61826955 0.63630762 0.63442865 0.63367702 0.61225683 0.61376004\n",
      " 0.61037787 0.61037787 0.61793923 0.62258649 0.62550557 0.62652373\n",
      " 0.62614572 0.62526405 0.62462437 0.62460101 0.62519503 0.62617111\n",
      " 0.62723219 0.62815261 0.62883615 0.62930596]\n",
      "14 day output [[0.6296525]]\n",
      "15 day input [0.60673268 0.57922466 0.53574539 0.53950332 0.50545649 0.52304363\n",
      " 0.48794453 0.4903496  0.49903047 0.51030426 0.51860924 0.52063856\n",
      " 0.50970297 0.51406219 0.50030815 0.50451701 0.50301386 0.53446771\n",
      " 0.52387032 0.54405045 0.53604603 0.53811291 0.54048042 0.522292\n",
      " 0.53769953 0.54908606 0.55585034 0.56024711 0.5615624  0.58008897\n",
      " 0.57167119 0.57911193 0.61225683 0.66674681 0.67163213 0.66223731\n",
      " 0.66261312 0.66749838 0.66486784 0.66374045 0.67877217 0.67802059\n",
      " 0.70470192 0.70733246 0.70357453 0.70395034 0.6851607  0.6475814\n",
      " 0.66674681 0.65885519 0.65660041 0.66486784 0.64607819 0.67200794\n",
      " 0.65772781 0.65096352 0.66148573 0.67426266 0.66674681 0.65359405\n",
      " 0.65246667 0.6678742  0.6678742  0.67839642 0.66223731 0.65246667\n",
      " 0.63292544 0.6532183  0.64307184 0.63668337 0.64194451 0.6084989\n",
      " 0.59196404 0.57355015 0.58595133 0.60436522 0.59722511 0.61826955\n",
      " 0.63630762 0.63442865 0.63367702 0.61225683 0.61376004 0.61037787\n",
      " 0.61037787 0.61793923 0.62258649 0.62550557 0.62652373 0.62614572\n",
      " 0.62526405 0.62462437 0.62460101 0.62519503 0.62617111 0.62723219\n",
      " 0.62815261 0.62883615 0.62930596 0.6296525 ]\n",
      "15 day output [[0.6299759]]\n",
      "16 day input [0.57922466 0.53574539 0.53950332 0.50545649 0.52304363 0.48794453\n",
      " 0.4903496  0.49903047 0.51030426 0.51860924 0.52063856 0.50970297\n",
      " 0.51406219 0.50030815 0.50451701 0.50301386 0.53446771 0.52387032\n",
      " 0.54405045 0.53604603 0.53811291 0.54048042 0.522292   0.53769953\n",
      " 0.54908606 0.55585034 0.56024711 0.5615624  0.58008897 0.57167119\n",
      " 0.57911193 0.61225683 0.66674681 0.67163213 0.66223731 0.66261312\n",
      " 0.66749838 0.66486784 0.66374045 0.67877217 0.67802059 0.70470192\n",
      " 0.70733246 0.70357453 0.70395034 0.6851607  0.6475814  0.66674681\n",
      " 0.65885519 0.65660041 0.66486784 0.64607819 0.67200794 0.65772781\n",
      " 0.65096352 0.66148573 0.67426266 0.66674681 0.65359405 0.65246667\n",
      " 0.6678742  0.6678742  0.67839642 0.66223731 0.65246667 0.63292544\n",
      " 0.6532183  0.64307184 0.63668337 0.64194451 0.6084989  0.59196404\n",
      " 0.57355015 0.58595133 0.60436522 0.59722511 0.61826955 0.63630762\n",
      " 0.63442865 0.63367702 0.61225683 0.61376004 0.61037787 0.61037787\n",
      " 0.61793923 0.62258649 0.62550557 0.62652373 0.62614572 0.62526405\n",
      " 0.62462437 0.62460101 0.62519503 0.62617111 0.62723219 0.62815261\n",
      " 0.62883615 0.62930596 0.6296525  0.62997591]\n",
      "16 day output [[0.63034594]]\n",
      "17 day input [0.53574539 0.53950332 0.50545649 0.52304363 0.48794453 0.4903496\n",
      " 0.49903047 0.51030426 0.51860924 0.52063856 0.50970297 0.51406219\n",
      " 0.50030815 0.50451701 0.50301386 0.53446771 0.52387032 0.54405045\n",
      " 0.53604603 0.53811291 0.54048042 0.522292   0.53769953 0.54908606\n",
      " 0.55585034 0.56024711 0.5615624  0.58008897 0.57167119 0.57911193\n",
      " 0.61225683 0.66674681 0.67163213 0.66223731 0.66261312 0.66749838\n",
      " 0.66486784 0.66374045 0.67877217 0.67802059 0.70470192 0.70733246\n",
      " 0.70357453 0.70395034 0.6851607  0.6475814  0.66674681 0.65885519\n",
      " 0.65660041 0.66486784 0.64607819 0.67200794 0.65772781 0.65096352\n",
      " 0.66148573 0.67426266 0.66674681 0.65359405 0.65246667 0.6678742\n",
      " 0.6678742  0.67839642 0.66223731 0.65246667 0.63292544 0.6532183\n",
      " 0.64307184 0.63668337 0.64194451 0.6084989  0.59196404 0.57355015\n",
      " 0.58595133 0.60436522 0.59722511 0.61826955 0.63630762 0.63442865\n",
      " 0.63367702 0.61225683 0.61376004 0.61037787 0.61037787 0.61793923\n",
      " 0.62258649 0.62550557 0.62652373 0.62614572 0.62526405 0.62462437\n",
      " 0.62460101 0.62519503 0.62617111 0.62723219 0.62815261 0.62883615\n",
      " 0.62930596 0.6296525  0.62997591 0.63034594]\n"
     ]
    },
    {
     "name": "stdout",
     "output_type": "stream",
     "text": [
      "17 day output [[0.6307864]]\n",
      "18 day input [0.53950332 0.50545649 0.52304363 0.48794453 0.4903496  0.49903047\n",
      " 0.51030426 0.51860924 0.52063856 0.50970297 0.51406219 0.50030815\n",
      " 0.50451701 0.50301386 0.53446771 0.52387032 0.54405045 0.53604603\n",
      " 0.53811291 0.54048042 0.522292   0.53769953 0.54908606 0.55585034\n",
      " 0.56024711 0.5615624  0.58008897 0.57167119 0.57911193 0.61225683\n",
      " 0.66674681 0.67163213 0.66223731 0.66261312 0.66749838 0.66486784\n",
      " 0.66374045 0.67877217 0.67802059 0.70470192 0.70733246 0.70357453\n",
      " 0.70395034 0.6851607  0.6475814  0.66674681 0.65885519 0.65660041\n",
      " 0.66486784 0.64607819 0.67200794 0.65772781 0.65096352 0.66148573\n",
      " 0.67426266 0.66674681 0.65359405 0.65246667 0.6678742  0.6678742\n",
      " 0.67839642 0.66223731 0.65246667 0.63292544 0.6532183  0.64307184\n",
      " 0.63668337 0.64194451 0.6084989  0.59196404 0.57355015 0.58595133\n",
      " 0.60436522 0.59722511 0.61826955 0.63630762 0.63442865 0.63367702\n",
      " 0.61225683 0.61376004 0.61037787 0.61037787 0.61793923 0.62258649\n",
      " 0.62550557 0.62652373 0.62614572 0.62526405 0.62462437 0.62460101\n",
      " 0.62519503 0.62617111 0.62723219 0.62815261 0.62883615 0.62930596\n",
      " 0.6296525  0.62997591 0.63034594 0.63078642]\n",
      "18 day output [[0.6312839]]\n",
      "19 day input [0.50545649 0.52304363 0.48794453 0.4903496  0.49903047 0.51030426\n",
      " 0.51860924 0.52063856 0.50970297 0.51406219 0.50030815 0.50451701\n",
      " 0.50301386 0.53446771 0.52387032 0.54405045 0.53604603 0.53811291\n",
      " 0.54048042 0.522292   0.53769953 0.54908606 0.55585034 0.56024711\n",
      " 0.5615624  0.58008897 0.57167119 0.57911193 0.61225683 0.66674681\n",
      " 0.67163213 0.66223731 0.66261312 0.66749838 0.66486784 0.66374045\n",
      " 0.67877217 0.67802059 0.70470192 0.70733246 0.70357453 0.70395034\n",
      " 0.6851607  0.6475814  0.66674681 0.65885519 0.65660041 0.66486784\n",
      " 0.64607819 0.67200794 0.65772781 0.65096352 0.66148573 0.67426266\n",
      " 0.66674681 0.65359405 0.65246667 0.6678742  0.6678742  0.67839642\n",
      " 0.66223731 0.65246667 0.63292544 0.6532183  0.64307184 0.63668337\n",
      " 0.64194451 0.6084989  0.59196404 0.57355015 0.58595133 0.60436522\n",
      " 0.59722511 0.61826955 0.63630762 0.63442865 0.63367702 0.61225683\n",
      " 0.61376004 0.61037787 0.61037787 0.61793923 0.62258649 0.62550557\n",
      " 0.62652373 0.62614572 0.62526405 0.62462437 0.62460101 0.62519503\n",
      " 0.62617111 0.62723219 0.62815261 0.62883615 0.62930596 0.6296525\n",
      " 0.62997591 0.63034594 0.63078642 0.63128388]\n",
      "19 day output [[0.6318064]]\n",
      "20 day input [0.52304363 0.48794453 0.4903496  0.49903047 0.51030426 0.51860924\n",
      " 0.52063856 0.50970297 0.51406219 0.50030815 0.50451701 0.50301386\n",
      " 0.53446771 0.52387032 0.54405045 0.53604603 0.53811291 0.54048042\n",
      " 0.522292   0.53769953 0.54908606 0.55585034 0.56024711 0.5615624\n",
      " 0.58008897 0.57167119 0.57911193 0.61225683 0.66674681 0.67163213\n",
      " 0.66223731 0.66261312 0.66749838 0.66486784 0.66374045 0.67877217\n",
      " 0.67802059 0.70470192 0.70733246 0.70357453 0.70395034 0.6851607\n",
      " 0.6475814  0.66674681 0.65885519 0.65660041 0.66486784 0.64607819\n",
      " 0.67200794 0.65772781 0.65096352 0.66148573 0.67426266 0.66674681\n",
      " 0.65359405 0.65246667 0.6678742  0.6678742  0.67839642 0.66223731\n",
      " 0.65246667 0.63292544 0.6532183  0.64307184 0.63668337 0.64194451\n",
      " 0.6084989  0.59196404 0.57355015 0.58595133 0.60436522 0.59722511\n",
      " 0.61826955 0.63630762 0.63442865 0.63367702 0.61225683 0.61376004\n",
      " 0.61037787 0.61037787 0.61793923 0.62258649 0.62550557 0.62652373\n",
      " 0.62614572 0.62526405 0.62462437 0.62460101 0.62519503 0.62617111\n",
      " 0.62723219 0.62815261 0.62883615 0.62930596 0.6296525  0.62997591\n",
      " 0.63034594 0.63078642 0.63128388 0.63180637]\n",
      "20 day output [[0.6323217]]\n",
      "21 day input [0.48794453 0.4903496  0.49903047 0.51030426 0.51860924 0.52063856\n",
      " 0.50970297 0.51406219 0.50030815 0.50451701 0.50301386 0.53446771\n",
      " 0.52387032 0.54405045 0.53604603 0.53811291 0.54048042 0.522292\n",
      " 0.53769953 0.54908606 0.55585034 0.56024711 0.5615624  0.58008897\n",
      " 0.57167119 0.57911193 0.61225683 0.66674681 0.67163213 0.66223731\n",
      " 0.66261312 0.66749838 0.66486784 0.66374045 0.67877217 0.67802059\n",
      " 0.70470192 0.70733246 0.70357453 0.70395034 0.6851607  0.6475814\n",
      " 0.66674681 0.65885519 0.65660041 0.66486784 0.64607819 0.67200794\n",
      " 0.65772781 0.65096352 0.66148573 0.67426266 0.66674681 0.65359405\n",
      " 0.65246667 0.6678742  0.6678742  0.67839642 0.66223731 0.65246667\n",
      " 0.63292544 0.6532183  0.64307184 0.63668337 0.64194451 0.6084989\n",
      " 0.59196404 0.57355015 0.58595133 0.60436522 0.59722511 0.61826955\n",
      " 0.63630762 0.63442865 0.63367702 0.61225683 0.61376004 0.61037787\n",
      " 0.61037787 0.61793923 0.62258649 0.62550557 0.62652373 0.62614572\n",
      " 0.62526405 0.62462437 0.62460101 0.62519503 0.62617111 0.62723219\n",
      " 0.62815261 0.62883615 0.62930596 0.6296525  0.62997591 0.63034594\n",
      " 0.63078642 0.63128388 0.63180637 0.63232172]\n",
      "21 day output [[0.6328101]]\n",
      "22 day input [0.4903496  0.49903047 0.51030426 0.51860924 0.52063856 0.50970297\n",
      " 0.51406219 0.50030815 0.50451701 0.50301386 0.53446771 0.52387032\n",
      " 0.54405045 0.53604603 0.53811291 0.54048042 0.522292   0.53769953\n",
      " 0.54908606 0.55585034 0.56024711 0.5615624  0.58008897 0.57167119\n",
      " 0.57911193 0.61225683 0.66674681 0.67163213 0.66223731 0.66261312\n",
      " 0.66749838 0.66486784 0.66374045 0.67877217 0.67802059 0.70470192\n",
      " 0.70733246 0.70357453 0.70395034 0.6851607  0.6475814  0.66674681\n",
      " 0.65885519 0.65660041 0.66486784 0.64607819 0.67200794 0.65772781\n",
      " 0.65096352 0.66148573 0.67426266 0.66674681 0.65359405 0.65246667\n",
      " 0.6678742  0.6678742  0.67839642 0.66223731 0.65246667 0.63292544\n",
      " 0.6532183  0.64307184 0.63668337 0.64194451 0.6084989  0.59196404\n",
      " 0.57355015 0.58595133 0.60436522 0.59722511 0.61826955 0.63630762\n",
      " 0.63442865 0.63367702 0.61225683 0.61376004 0.61037787 0.61037787\n",
      " 0.61793923 0.62258649 0.62550557 0.62652373 0.62614572 0.62526405\n",
      " 0.62462437 0.62460101 0.62519503 0.62617111 0.62723219 0.62815261\n",
      " 0.62883615 0.62930596 0.6296525  0.62997591 0.63034594 0.63078642\n",
      " 0.63128388 0.63180637 0.63232172 0.63281012]\n",
      "22 day output [[0.6332669]]\n",
      "23 day input [0.49903047 0.51030426 0.51860924 0.52063856 0.50970297 0.51406219\n",
      " 0.50030815 0.50451701 0.50301386 0.53446771 0.52387032 0.54405045\n",
      " 0.53604603 0.53811291 0.54048042 0.522292   0.53769953 0.54908606\n",
      " 0.55585034 0.56024711 0.5615624  0.58008897 0.57167119 0.57911193\n",
      " 0.61225683 0.66674681 0.67163213 0.66223731 0.66261312 0.66749838\n",
      " 0.66486784 0.66374045 0.67877217 0.67802059 0.70470192 0.70733246\n",
      " 0.70357453 0.70395034 0.6851607  0.6475814  0.66674681 0.65885519\n",
      " 0.65660041 0.66486784 0.64607819 0.67200794 0.65772781 0.65096352\n",
      " 0.66148573 0.67426266 0.66674681 0.65359405 0.65246667 0.6678742\n",
      " 0.6678742  0.67839642 0.66223731 0.65246667 0.63292544 0.6532183\n",
      " 0.64307184 0.63668337 0.64194451 0.6084989  0.59196404 0.57355015\n",
      " 0.58595133 0.60436522 0.59722511 0.61826955 0.63630762 0.63442865\n",
      " 0.63367702 0.61225683 0.61376004 0.61037787 0.61037787 0.61793923\n",
      " 0.62258649 0.62550557 0.62652373 0.62614572 0.62526405 0.62462437\n",
      " 0.62460101 0.62519503 0.62617111 0.62723219 0.62815261 0.62883615\n",
      " 0.62930596 0.6296525  0.62997591 0.63034594 0.63078642 0.63128388\n",
      " 0.63180637 0.63232172 0.63281012 0.63326693]\n",
      "23 day output [[0.6336987]]\n",
      "24 day input [0.51030426 0.51860924 0.52063856 0.50970297 0.51406219 0.50030815\n",
      " 0.50451701 0.50301386 0.53446771 0.52387032 0.54405045 0.53604603\n",
      " 0.53811291 0.54048042 0.522292   0.53769953 0.54908606 0.55585034\n",
      " 0.56024711 0.5615624  0.58008897 0.57167119 0.57911193 0.61225683\n",
      " 0.66674681 0.67163213 0.66223731 0.66261312 0.66749838 0.66486784\n",
      " 0.66374045 0.67877217 0.67802059 0.70470192 0.70733246 0.70357453\n",
      " 0.70395034 0.6851607  0.6475814  0.66674681 0.65885519 0.65660041\n",
      " 0.66486784 0.64607819 0.67200794 0.65772781 0.65096352 0.66148573\n",
      " 0.67426266 0.66674681 0.65359405 0.65246667 0.6678742  0.6678742\n",
      " 0.67839642 0.66223731 0.65246667 0.63292544 0.6532183  0.64307184\n",
      " 0.63668337 0.64194451 0.6084989  0.59196404 0.57355015 0.58595133\n",
      " 0.60436522 0.59722511 0.61826955 0.63630762 0.63442865 0.63367702\n",
      " 0.61225683 0.61376004 0.61037787 0.61037787 0.61793923 0.62258649\n",
      " 0.62550557 0.62652373 0.62614572 0.62526405 0.62462437 0.62460101\n",
      " 0.62519503 0.62617111 0.62723219 0.62815261 0.62883615 0.62930596\n",
      " 0.6296525  0.62997591 0.63034594 0.63078642 0.63128388 0.63180637\n",
      " 0.63232172 0.63281012 0.63326693 0.6336987 ]\n",
      "24 day output [[0.6341171]]\n",
      "25 day input [0.51860924 0.52063856 0.50970297 0.51406219 0.50030815 0.50451701\n",
      " 0.50301386 0.53446771 0.52387032 0.54405045 0.53604603 0.53811291\n",
      " 0.54048042 0.522292   0.53769953 0.54908606 0.55585034 0.56024711\n",
      " 0.5615624  0.58008897 0.57167119 0.57911193 0.61225683 0.66674681\n",
      " 0.67163213 0.66223731 0.66261312 0.66749838 0.66486784 0.66374045\n",
      " 0.67877217 0.67802059 0.70470192 0.70733246 0.70357453 0.70395034\n",
      " 0.6851607  0.6475814  0.66674681 0.65885519 0.65660041 0.66486784\n",
      " 0.64607819 0.67200794 0.65772781 0.65096352 0.66148573 0.67426266\n",
      " 0.66674681 0.65359405 0.65246667 0.6678742  0.6678742  0.67839642\n",
      " 0.66223731 0.65246667 0.63292544 0.6532183  0.64307184 0.63668337\n",
      " 0.64194451 0.6084989  0.59196404 0.57355015 0.58595133 0.60436522\n",
      " 0.59722511 0.61826955 0.63630762 0.63442865 0.63367702 0.61225683\n",
      " 0.61376004 0.61037787 0.61037787 0.61793923 0.62258649 0.62550557\n",
      " 0.62652373 0.62614572 0.62526405 0.62462437 0.62460101 0.62519503\n",
      " 0.62617111 0.62723219 0.62815261 0.62883615 0.62930596 0.6296525\n",
      " 0.62997591 0.63034594 0.63078642 0.63128388 0.63180637 0.63232172\n",
      " 0.63281012 0.63326693 0.6336987  0.63411713]\n"
     ]
    },
    {
     "name": "stdout",
     "output_type": "stream",
     "text": [
      "25 day output [[0.6345326]]\n",
      "26 day input [0.52063856 0.50970297 0.51406219 0.50030815 0.50451701 0.50301386\n",
      " 0.53446771 0.52387032 0.54405045 0.53604603 0.53811291 0.54048042\n",
      " 0.522292   0.53769953 0.54908606 0.55585034 0.56024711 0.5615624\n",
      " 0.58008897 0.57167119 0.57911193 0.61225683 0.66674681 0.67163213\n",
      " 0.66223731 0.66261312 0.66749838 0.66486784 0.66374045 0.67877217\n",
      " 0.67802059 0.70470192 0.70733246 0.70357453 0.70395034 0.6851607\n",
      " 0.6475814  0.66674681 0.65885519 0.65660041 0.66486784 0.64607819\n",
      " 0.67200794 0.65772781 0.65096352 0.66148573 0.67426266 0.66674681\n",
      " 0.65359405 0.65246667 0.6678742  0.6678742  0.67839642 0.66223731\n",
      " 0.65246667 0.63292544 0.6532183  0.64307184 0.63668337 0.64194451\n",
      " 0.6084989  0.59196404 0.57355015 0.58595133 0.60436522 0.59722511\n",
      " 0.61826955 0.63630762 0.63442865 0.63367702 0.61225683 0.61376004\n",
      " 0.61037787 0.61037787 0.61793923 0.62258649 0.62550557 0.62652373\n",
      " 0.62614572 0.62526405 0.62462437 0.62460101 0.62519503 0.62617111\n",
      " 0.62723219 0.62815261 0.62883615 0.62930596 0.6296525  0.62997591\n",
      " 0.63034594 0.63078642 0.63128388 0.63180637 0.63232172 0.63281012\n",
      " 0.63326693 0.6336987  0.63411713 0.63453257]\n",
      "26 day output [[0.6349504]]\n",
      "27 day input [0.50970297 0.51406219 0.50030815 0.50451701 0.50301386 0.53446771\n",
      " 0.52387032 0.54405045 0.53604603 0.53811291 0.54048042 0.522292\n",
      " 0.53769953 0.54908606 0.55585034 0.56024711 0.5615624  0.58008897\n",
      " 0.57167119 0.57911193 0.61225683 0.66674681 0.67163213 0.66223731\n",
      " 0.66261312 0.66749838 0.66486784 0.66374045 0.67877217 0.67802059\n",
      " 0.70470192 0.70733246 0.70357453 0.70395034 0.6851607  0.6475814\n",
      " 0.66674681 0.65885519 0.65660041 0.66486784 0.64607819 0.67200794\n",
      " 0.65772781 0.65096352 0.66148573 0.67426266 0.66674681 0.65359405\n",
      " 0.65246667 0.6678742  0.6678742  0.67839642 0.66223731 0.65246667\n",
      " 0.63292544 0.6532183  0.64307184 0.63668337 0.64194451 0.6084989\n",
      " 0.59196404 0.57355015 0.58595133 0.60436522 0.59722511 0.61826955\n",
      " 0.63630762 0.63442865 0.63367702 0.61225683 0.61376004 0.61037787\n",
      " 0.61037787 0.61793923 0.62258649 0.62550557 0.62652373 0.62614572\n",
      " 0.62526405 0.62462437 0.62460101 0.62519503 0.62617111 0.62723219\n",
      " 0.62815261 0.62883615 0.62930596 0.6296525  0.62997591 0.63034594\n",
      " 0.63078642 0.63128388 0.63180637 0.63232172 0.63281012 0.63326693\n",
      " 0.6336987  0.63411713 0.63453257 0.6349504 ]\n",
      "27 day output [[0.6353713]]\n",
      "28 day input [0.51406219 0.50030815 0.50451701 0.50301386 0.53446771 0.52387032\n",
      " 0.54405045 0.53604603 0.53811291 0.54048042 0.522292   0.53769953\n",
      " 0.54908606 0.55585034 0.56024711 0.5615624  0.58008897 0.57167119\n",
      " 0.57911193 0.61225683 0.66674681 0.67163213 0.66223731 0.66261312\n",
      " 0.66749838 0.66486784 0.66374045 0.67877217 0.67802059 0.70470192\n",
      " 0.70733246 0.70357453 0.70395034 0.6851607  0.6475814  0.66674681\n",
      " 0.65885519 0.65660041 0.66486784 0.64607819 0.67200794 0.65772781\n",
      " 0.65096352 0.66148573 0.67426266 0.66674681 0.65359405 0.65246667\n",
      " 0.6678742  0.6678742  0.67839642 0.66223731 0.65246667 0.63292544\n",
      " 0.6532183  0.64307184 0.63668337 0.64194451 0.6084989  0.59196404\n",
      " 0.57355015 0.58595133 0.60436522 0.59722511 0.61826955 0.63630762\n",
      " 0.63442865 0.63367702 0.61225683 0.61376004 0.61037787 0.61037787\n",
      " 0.61793923 0.62258649 0.62550557 0.62652373 0.62614572 0.62526405\n",
      " 0.62462437 0.62460101 0.62519503 0.62617111 0.62723219 0.62815261\n",
      " 0.62883615 0.62930596 0.6296525  0.62997591 0.63034594 0.63078642\n",
      " 0.63128388 0.63180637 0.63232172 0.63281012 0.63326693 0.6336987\n",
      " 0.63411713 0.63453257 0.6349504  0.63537133]\n",
      "28 day output [[0.63579214]]\n",
      "29 day input [0.50030815 0.50451701 0.50301386 0.53446771 0.52387032 0.54405045\n",
      " 0.53604603 0.53811291 0.54048042 0.522292   0.53769953 0.54908606\n",
      " 0.55585034 0.56024711 0.5615624  0.58008897 0.57167119 0.57911193\n",
      " 0.61225683 0.66674681 0.67163213 0.66223731 0.66261312 0.66749838\n",
      " 0.66486784 0.66374045 0.67877217 0.67802059 0.70470192 0.70733246\n",
      " 0.70357453 0.70395034 0.6851607  0.6475814  0.66674681 0.65885519\n",
      " 0.65660041 0.66486784 0.64607819 0.67200794 0.65772781 0.65096352\n",
      " 0.66148573 0.67426266 0.66674681 0.65359405 0.65246667 0.6678742\n",
      " 0.6678742  0.67839642 0.66223731 0.65246667 0.63292544 0.6532183\n",
      " 0.64307184 0.63668337 0.64194451 0.6084989  0.59196404 0.57355015\n",
      " 0.58595133 0.60436522 0.59722511 0.61826955 0.63630762 0.63442865\n",
      " 0.63367702 0.61225683 0.61376004 0.61037787 0.61037787 0.61793923\n",
      " 0.62258649 0.62550557 0.62652373 0.62614572 0.62526405 0.62462437\n",
      " 0.62460101 0.62519503 0.62617111 0.62723219 0.62815261 0.62883615\n",
      " 0.62930596 0.6296525  0.62997591 0.63034594 0.63078642 0.63128388\n",
      " 0.63180637 0.63232172 0.63281012 0.63326693 0.6336987  0.63411713\n",
      " 0.63453257 0.6349504  0.63537133 0.63579214]\n",
      "29 day output [[0.636209]]\n",
      "[[0.6179392337799072], [0.6225864887237549], [0.6255055665969849], [0.6265237331390381], [0.6261457204818726], [0.625264048576355], [0.6246243715286255], [0.6246010065078735], [0.6251950263977051], [0.6261711120605469], [0.6272321939468384], [0.62815260887146], [0.6288361549377441], [0.6293059587478638], [0.6296525001525879], [0.6299759149551392], [0.6303459405899048], [0.6307864189147949], [0.6312838792800903], [0.6318063735961914], [0.6323217153549194], [0.632810115814209], [0.6332669258117676], [0.6336987018585205], [0.6341171264648438], [0.6345325708389282], [0.6349503993988037], [0.6353713274002075], [0.6357921361923218], [0.6362090110778809]]\n"
     ]
    }
   ],
   "source": [
    "# demonstrate prediction for next 30 days in LSTM\n",
    "from numpy import array\n",
    "lst_outputlstm=[]\n",
    "n_steps=100\n",
    "i=0\n",
    "while(i<30):\n",
    "\n",
    "  if(len(temp_input)>100):\n",
    "    x_input=np.array(temp_input[1:])\n",
    "    print(\"{} day input {}\".format(i,x_input))\n",
    "    x_input=x_input.reshape(1,-1)\n",
    "    x_input = x_input.reshape((1, n_steps, 1))\n",
    "    yhat = model_lstm.predict(x_input, verbose=0)\n",
    "    print(\"{} day output {}\".format(i,yhat))\n",
    "    temp_input.extend(yhat[0].tolist())\n",
    "    temp_input=temp_input[1:]\n",
    "    lst_outputlstm.extend(yhat.tolist())\n",
    "    i=i+1\n",
    "  else:\n",
    "    x_input = x_input.reshape((1, n_steps, 1))\n",
    "    yhat = model_lstm.predict(x_input, verbose=0)\n",
    "    print(yhat[0])\n",
    "    temp_input.extend(yhat[0].tolist())\n",
    "    print(len(temp_input))\n",
    "    lst_outputlstm.extend(yhat.tolist())\n",
    "    i=i+1\n",
    "print(lst_outputlstm)"
   ]
  },
  {
   "cell_type": "code",
   "execution_count": 87,
   "id": "f82d010f",
   "metadata": {},
   "outputs": [
    {
     "name": "stdout",
     "output_type": "stream",
     "text": [
      "0 day input [0.50451701 0.50301386 0.53446771 0.52387032 0.54405045 0.53604603\n",
      " 0.53811291 0.54048042 0.522292   0.53769953 0.54908606 0.55585034\n",
      " 0.56024711 0.5615624  0.58008897 0.57167119 0.57911193 0.61225683\n",
      " 0.66674681 0.67163213 0.66223731 0.66261312 0.66749838 0.66486784\n",
      " 0.66374045 0.67877217 0.67802059 0.70470192 0.70733246 0.70357453\n",
      " 0.70395034 0.6851607  0.6475814  0.66674681 0.65885519 0.65660041\n",
      " 0.66486784 0.64607819 0.67200794 0.65772781 0.65096352 0.66148573\n",
      " 0.67426266 0.66674681 0.65359405 0.65246667 0.6678742  0.6678742\n",
      " 0.67839642 0.66223731 0.65246667 0.63292544 0.6532183  0.64307184\n",
      " 0.63668337 0.64194451 0.6084989  0.59196404 0.57355015 0.58595133\n",
      " 0.60436522 0.59722511 0.61826955 0.63630762 0.63442865 0.63367702\n",
      " 0.61225683 0.61376004 0.61037787 0.61037787 0.61793923 0.62258649\n",
      " 0.62550557 0.62652373 0.62614572 0.62526405 0.62462437 0.62460101\n",
      " 0.62519503 0.62617111 0.62723219 0.62815261 0.62883615 0.62930596\n",
      " 0.6296525  0.62997591 0.63034594 0.63078642 0.63128388 0.63180637\n",
      " 0.63232172 0.63281012 0.63326693 0.6336987  0.63411713 0.63453257\n",
      " 0.6349504  0.63537133 0.63579214 0.63620901]\n",
      "0 day output [[0.5917608]]\n",
      "1 day input [0.50301386 0.53446771 0.52387032 0.54405045 0.53604603 0.53811291\n",
      " 0.54048042 0.522292   0.53769953 0.54908606 0.55585034 0.56024711\n",
      " 0.5615624  0.58008897 0.57167119 0.57911193 0.61225683 0.66674681\n",
      " 0.67163213 0.66223731 0.66261312 0.66749838 0.66486784 0.66374045\n",
      " 0.67877217 0.67802059 0.70470192 0.70733246 0.70357453 0.70395034\n",
      " 0.6851607  0.6475814  0.66674681 0.65885519 0.65660041 0.66486784\n",
      " 0.64607819 0.67200794 0.65772781 0.65096352 0.66148573 0.67426266\n",
      " 0.66674681 0.65359405 0.65246667 0.6678742  0.6678742  0.67839642\n",
      " 0.66223731 0.65246667 0.63292544 0.6532183  0.64307184 0.63668337\n",
      " 0.64194451 0.6084989  0.59196404 0.57355015 0.58595133 0.60436522\n",
      " 0.59722511 0.61826955 0.63630762 0.63442865 0.63367702 0.61225683\n",
      " 0.61376004 0.61037787 0.61037787 0.61793923 0.62258649 0.62550557\n",
      " 0.62652373 0.62614572 0.62526405 0.62462437 0.62460101 0.62519503\n",
      " 0.62617111 0.62723219 0.62815261 0.62883615 0.62930596 0.6296525\n",
      " 0.62997591 0.63034594 0.63078642 0.63128388 0.63180637 0.63232172\n",
      " 0.63281012 0.63326693 0.6336987  0.63411713 0.63453257 0.6349504\n",
      " 0.63537133 0.63579214 0.63620901 0.59176081]\n",
      "1 day output [[0.59142596]]\n",
      "2 day input [0.53446771 0.52387032 0.54405045 0.53604603 0.53811291 0.54048042\n",
      " 0.522292   0.53769953 0.54908606 0.55585034 0.56024711 0.5615624\n",
      " 0.58008897 0.57167119 0.57911193 0.61225683 0.66674681 0.67163213\n",
      " 0.66223731 0.66261312 0.66749838 0.66486784 0.66374045 0.67877217\n",
      " 0.67802059 0.70470192 0.70733246 0.70357453 0.70395034 0.6851607\n",
      " 0.6475814  0.66674681 0.65885519 0.65660041 0.66486784 0.64607819\n",
      " 0.67200794 0.65772781 0.65096352 0.66148573 0.67426266 0.66674681\n",
      " 0.65359405 0.65246667 0.6678742  0.6678742  0.67839642 0.66223731\n",
      " 0.65246667 0.63292544 0.6532183  0.64307184 0.63668337 0.64194451\n",
      " 0.6084989  0.59196404 0.57355015 0.58595133 0.60436522 0.59722511\n",
      " 0.61826955 0.63630762 0.63442865 0.63367702 0.61225683 0.61376004\n",
      " 0.61037787 0.61037787 0.61793923 0.62258649 0.62550557 0.62652373\n",
      " 0.62614572 0.62526405 0.62462437 0.62460101 0.62519503 0.62617111\n",
      " 0.62723219 0.62815261 0.62883615 0.62930596 0.6296525  0.62997591\n",
      " 0.63034594 0.63078642 0.63128388 0.63180637 0.63232172 0.63281012\n",
      " 0.63326693 0.6336987  0.63411713 0.63453257 0.6349504  0.63537133\n",
      " 0.63579214 0.63620901 0.59176081 0.59142596]\n",
      "2 day output [[0.58652306]]\n",
      "3 day input [0.52387032 0.54405045 0.53604603 0.53811291 0.54048042 0.522292\n",
      " 0.53769953 0.54908606 0.55585034 0.56024711 0.5615624  0.58008897\n",
      " 0.57167119 0.57911193 0.61225683 0.66674681 0.67163213 0.66223731\n",
      " 0.66261312 0.66749838 0.66486784 0.66374045 0.67877217 0.67802059\n",
      " 0.70470192 0.70733246 0.70357453 0.70395034 0.6851607  0.6475814\n",
      " 0.66674681 0.65885519 0.65660041 0.66486784 0.64607819 0.67200794\n",
      " 0.65772781 0.65096352 0.66148573 0.67426266 0.66674681 0.65359405\n",
      " 0.65246667 0.6678742  0.6678742  0.67839642 0.66223731 0.65246667\n",
      " 0.63292544 0.6532183  0.64307184 0.63668337 0.64194451 0.6084989\n",
      " 0.59196404 0.57355015 0.58595133 0.60436522 0.59722511 0.61826955\n",
      " 0.63630762 0.63442865 0.63367702 0.61225683 0.61376004 0.61037787\n",
      " 0.61037787 0.61793923 0.62258649 0.62550557 0.62652373 0.62614572\n",
      " 0.62526405 0.62462437 0.62460101 0.62519503 0.62617111 0.62723219\n",
      " 0.62815261 0.62883615 0.62930596 0.6296525  0.62997591 0.63034594\n",
      " 0.63078642 0.63128388 0.63180637 0.63232172 0.63281012 0.63326693\n",
      " 0.6336987  0.63411713 0.63453257 0.6349504  0.63537133 0.63579214\n",
      " 0.63620901 0.59176081 0.59142596 0.58652306]\n",
      "3 day output [[0.57888067]]\n",
      "4 day input [0.54405045 0.53604603 0.53811291 0.54048042 0.522292   0.53769953\n",
      " 0.54908606 0.55585034 0.56024711 0.5615624  0.58008897 0.57167119\n",
      " 0.57911193 0.61225683 0.66674681 0.67163213 0.66223731 0.66261312\n",
      " 0.66749838 0.66486784 0.66374045 0.67877217 0.67802059 0.70470192\n",
      " 0.70733246 0.70357453 0.70395034 0.6851607  0.6475814  0.66674681\n",
      " 0.65885519 0.65660041 0.66486784 0.64607819 0.67200794 0.65772781\n",
      " 0.65096352 0.66148573 0.67426266 0.66674681 0.65359405 0.65246667\n",
      " 0.6678742  0.6678742  0.67839642 0.66223731 0.65246667 0.63292544\n",
      " 0.6532183  0.64307184 0.63668337 0.64194451 0.6084989  0.59196404\n",
      " 0.57355015 0.58595133 0.60436522 0.59722511 0.61826955 0.63630762\n",
      " 0.63442865 0.63367702 0.61225683 0.61376004 0.61037787 0.61037787\n",
      " 0.61793923 0.62258649 0.62550557 0.62652373 0.62614572 0.62526405\n",
      " 0.62462437 0.62460101 0.62519503 0.62617111 0.62723219 0.62815261\n",
      " 0.62883615 0.62930596 0.6296525  0.62997591 0.63034594 0.63078642\n",
      " 0.63128388 0.63180637 0.63232172 0.63281012 0.63326693 0.6336987\n",
      " 0.63411713 0.63453257 0.6349504  0.63537133 0.63579214 0.63620901\n",
      " 0.59176081 0.59142596 0.58652306 0.57888067]\n",
      "4 day output [[0.57914996]]\n",
      "5 day input [0.53604603 0.53811291 0.54048042 0.522292   0.53769953 0.54908606\n",
      " 0.55585034 0.56024711 0.5615624  0.58008897 0.57167119 0.57911193\n",
      " 0.61225683 0.66674681 0.67163213 0.66223731 0.66261312 0.66749838\n",
      " 0.66486784 0.66374045 0.67877217 0.67802059 0.70470192 0.70733246\n",
      " 0.70357453 0.70395034 0.6851607  0.6475814  0.66674681 0.65885519\n",
      " 0.65660041 0.66486784 0.64607819 0.67200794 0.65772781 0.65096352\n",
      " 0.66148573 0.67426266 0.66674681 0.65359405 0.65246667 0.6678742\n",
      " 0.6678742  0.67839642 0.66223731 0.65246667 0.63292544 0.6532183\n",
      " 0.64307184 0.63668337 0.64194451 0.6084989  0.59196404 0.57355015\n",
      " 0.58595133 0.60436522 0.59722511 0.61826955 0.63630762 0.63442865\n",
      " 0.63367702 0.61225683 0.61376004 0.61037787 0.61037787 0.61793923\n",
      " 0.62258649 0.62550557 0.62652373 0.62614572 0.62526405 0.62462437\n",
      " 0.62460101 0.62519503 0.62617111 0.62723219 0.62815261 0.62883615\n",
      " 0.62930596 0.6296525  0.62997591 0.63034594 0.63078642 0.63128388\n",
      " 0.63180637 0.63232172 0.63281012 0.63326693 0.6336987  0.63411713\n",
      " 0.63453257 0.6349504  0.63537133 0.63579214 0.63620901 0.59176081\n",
      " 0.59142596 0.58652306 0.57888067 0.57914996]\n",
      "5 day output [[0.57617986]]\n",
      "6 day input [0.53811291 0.54048042 0.522292   0.53769953 0.54908606 0.55585034\n",
      " 0.56024711 0.5615624  0.58008897 0.57167119 0.57911193 0.61225683\n",
      " 0.66674681 0.67163213 0.66223731 0.66261312 0.66749838 0.66486784\n",
      " 0.66374045 0.67877217 0.67802059 0.70470192 0.70733246 0.70357453\n",
      " 0.70395034 0.6851607  0.6475814  0.66674681 0.65885519 0.65660041\n",
      " 0.66486784 0.64607819 0.67200794 0.65772781 0.65096352 0.66148573\n",
      " 0.67426266 0.66674681 0.65359405 0.65246667 0.6678742  0.6678742\n",
      " 0.67839642 0.66223731 0.65246667 0.63292544 0.6532183  0.64307184\n",
      " 0.63668337 0.64194451 0.6084989  0.59196404 0.57355015 0.58595133\n",
      " 0.60436522 0.59722511 0.61826955 0.63630762 0.63442865 0.63367702\n",
      " 0.61225683 0.61376004 0.61037787 0.61037787 0.61793923 0.62258649\n",
      " 0.62550557 0.62652373 0.62614572 0.62526405 0.62462437 0.62460101\n",
      " 0.62519503 0.62617111 0.62723219 0.62815261 0.62883615 0.62930596\n",
      " 0.6296525  0.62997591 0.63034594 0.63078642 0.63128388 0.63180637\n",
      " 0.63232172 0.63281012 0.63326693 0.6336987  0.63411713 0.63453257\n",
      " 0.6349504  0.63537133 0.63579214 0.63620901 0.59176081 0.59142596\n",
      " 0.58652306 0.57888067 0.57914996 0.57617986]\n",
      "6 day output [[0.5746247]]\n",
      "7 day input [0.54048042 0.522292   0.53769953 0.54908606 0.55585034 0.56024711\n",
      " 0.5615624  0.58008897 0.57167119 0.57911193 0.61225683 0.66674681\n",
      " 0.67163213 0.66223731 0.66261312 0.66749838 0.66486784 0.66374045\n",
      " 0.67877217 0.67802059 0.70470192 0.70733246 0.70357453 0.70395034\n",
      " 0.6851607  0.6475814  0.66674681 0.65885519 0.65660041 0.66486784\n",
      " 0.64607819 0.67200794 0.65772781 0.65096352 0.66148573 0.67426266\n",
      " 0.66674681 0.65359405 0.65246667 0.6678742  0.6678742  0.67839642\n",
      " 0.66223731 0.65246667 0.63292544 0.6532183  0.64307184 0.63668337\n",
      " 0.64194451 0.6084989  0.59196404 0.57355015 0.58595133 0.60436522\n",
      " 0.59722511 0.61826955 0.63630762 0.63442865 0.63367702 0.61225683\n",
      " 0.61376004 0.61037787 0.61037787 0.61793923 0.62258649 0.62550557\n",
      " 0.62652373 0.62614572 0.62526405 0.62462437 0.62460101 0.62519503\n",
      " 0.62617111 0.62723219 0.62815261 0.62883615 0.62930596 0.6296525\n",
      " 0.62997591 0.63034594 0.63078642 0.63128388 0.63180637 0.63232172\n",
      " 0.63281012 0.63326693 0.6336987  0.63411713 0.63453257 0.6349504\n",
      " 0.63537133 0.63579214 0.63620901 0.59176081 0.59142596 0.58652306\n",
      " 0.57888067 0.57914996 0.57617986 0.57462472]\n",
      "7 day output [[0.5713956]]\n",
      "8 day input [0.522292   0.53769953 0.54908606 0.55585034 0.56024711 0.5615624\n",
      " 0.58008897 0.57167119 0.57911193 0.61225683 0.66674681 0.67163213\n",
      " 0.66223731 0.66261312 0.66749838 0.66486784 0.66374045 0.67877217\n",
      " 0.67802059 0.70470192 0.70733246 0.70357453 0.70395034 0.6851607\n",
      " 0.6475814  0.66674681 0.65885519 0.65660041 0.66486784 0.64607819\n",
      " 0.67200794 0.65772781 0.65096352 0.66148573 0.67426266 0.66674681\n",
      " 0.65359405 0.65246667 0.6678742  0.6678742  0.67839642 0.66223731\n",
      " 0.65246667 0.63292544 0.6532183  0.64307184 0.63668337 0.64194451\n",
      " 0.6084989  0.59196404 0.57355015 0.58595133 0.60436522 0.59722511\n",
      " 0.61826955 0.63630762 0.63442865 0.63367702 0.61225683 0.61376004\n",
      " 0.61037787 0.61037787 0.61793923 0.62258649 0.62550557 0.62652373\n",
      " 0.62614572 0.62526405 0.62462437 0.62460101 0.62519503 0.62617111\n",
      " 0.62723219 0.62815261 0.62883615 0.62930596 0.6296525  0.62997591\n",
      " 0.63034594 0.63078642 0.63128388 0.63180637 0.63232172 0.63281012\n",
      " 0.63326693 0.6336987  0.63411713 0.63453257 0.6349504  0.63537133\n",
      " 0.63579214 0.63620901 0.59176081 0.59142596 0.58652306 0.57888067\n",
      " 0.57914996 0.57617986 0.57462472 0.57139558]\n",
      "8 day output [[0.56923157]]\n",
      "9 day input [0.53769953 0.54908606 0.55585034 0.56024711 0.5615624  0.58008897\n",
      " 0.57167119 0.57911193 0.61225683 0.66674681 0.67163213 0.66223731\n",
      " 0.66261312 0.66749838 0.66486784 0.66374045 0.67877217 0.67802059\n",
      " 0.70470192 0.70733246 0.70357453 0.70395034 0.6851607  0.6475814\n",
      " 0.66674681 0.65885519 0.65660041 0.66486784 0.64607819 0.67200794\n",
      " 0.65772781 0.65096352 0.66148573 0.67426266 0.66674681 0.65359405\n",
      " 0.65246667 0.6678742  0.6678742  0.67839642 0.66223731 0.65246667\n",
      " 0.63292544 0.6532183  0.64307184 0.63668337 0.64194451 0.6084989\n",
      " 0.59196404 0.57355015 0.58595133 0.60436522 0.59722511 0.61826955\n",
      " 0.63630762 0.63442865 0.63367702 0.61225683 0.61376004 0.61037787\n",
      " 0.61037787 0.61793923 0.62258649 0.62550557 0.62652373 0.62614572\n",
      " 0.62526405 0.62462437 0.62460101 0.62519503 0.62617111 0.62723219\n",
      " 0.62815261 0.62883615 0.62930596 0.6296525  0.62997591 0.63034594\n",
      " 0.63078642 0.63128388 0.63180637 0.63232172 0.63281012 0.63326693\n",
      " 0.6336987  0.63411713 0.63453257 0.6349504  0.63537133 0.63579214\n",
      " 0.63620901 0.59176081 0.59142596 0.58652306 0.57888067 0.57914996\n",
      " 0.57617986 0.57462472 0.57139558 0.56923157]\n"
     ]
    },
    {
     "name": "stdout",
     "output_type": "stream",
     "text": [
      "9 day output [[0.566708]]\n",
      "10 day input [0.54908606 0.55585034 0.56024711 0.5615624  0.58008897 0.57167119\n",
      " 0.57911193 0.61225683 0.66674681 0.67163213 0.66223731 0.66261312\n",
      " 0.66749838 0.66486784 0.66374045 0.67877217 0.67802059 0.70470192\n",
      " 0.70733246 0.70357453 0.70395034 0.6851607  0.6475814  0.66674681\n",
      " 0.65885519 0.65660041 0.66486784 0.64607819 0.67200794 0.65772781\n",
      " 0.65096352 0.66148573 0.67426266 0.66674681 0.65359405 0.65246667\n",
      " 0.6678742  0.6678742  0.67839642 0.66223731 0.65246667 0.63292544\n",
      " 0.6532183  0.64307184 0.63668337 0.64194451 0.6084989  0.59196404\n",
      " 0.57355015 0.58595133 0.60436522 0.59722511 0.61826955 0.63630762\n",
      " 0.63442865 0.63367702 0.61225683 0.61376004 0.61037787 0.61037787\n",
      " 0.61793923 0.62258649 0.62550557 0.62652373 0.62614572 0.62526405\n",
      " 0.62462437 0.62460101 0.62519503 0.62617111 0.62723219 0.62815261\n",
      " 0.62883615 0.62930596 0.6296525  0.62997591 0.63034594 0.63078642\n",
      " 0.63128388 0.63180637 0.63232172 0.63281012 0.63326693 0.6336987\n",
      " 0.63411713 0.63453257 0.6349504  0.63537133 0.63579214 0.63620901\n",
      " 0.59176081 0.59142596 0.58652306 0.57888067 0.57914996 0.57617986\n",
      " 0.57462472 0.57139558 0.56923157 0.56670803]\n",
      "10 day output [[0.56304604]]\n",
      "11 day input [0.55585034 0.56024711 0.5615624  0.58008897 0.57167119 0.57911193\n",
      " 0.61225683 0.66674681 0.67163213 0.66223731 0.66261312 0.66749838\n",
      " 0.66486784 0.66374045 0.67877217 0.67802059 0.70470192 0.70733246\n",
      " 0.70357453 0.70395034 0.6851607  0.6475814  0.66674681 0.65885519\n",
      " 0.65660041 0.66486784 0.64607819 0.67200794 0.65772781 0.65096352\n",
      " 0.66148573 0.67426266 0.66674681 0.65359405 0.65246667 0.6678742\n",
      " 0.6678742  0.67839642 0.66223731 0.65246667 0.63292544 0.6532183\n",
      " 0.64307184 0.63668337 0.64194451 0.6084989  0.59196404 0.57355015\n",
      " 0.58595133 0.60436522 0.59722511 0.61826955 0.63630762 0.63442865\n",
      " 0.63367702 0.61225683 0.61376004 0.61037787 0.61037787 0.61793923\n",
      " 0.62258649 0.62550557 0.62652373 0.62614572 0.62526405 0.62462437\n",
      " 0.62460101 0.62519503 0.62617111 0.62723219 0.62815261 0.62883615\n",
      " 0.62930596 0.6296525  0.62997591 0.63034594 0.63078642 0.63128388\n",
      " 0.63180637 0.63232172 0.63281012 0.63326693 0.6336987  0.63411713\n",
      " 0.63453257 0.6349504  0.63537133 0.63579214 0.63620901 0.59176081\n",
      " 0.59142596 0.58652306 0.57888067 0.57914996 0.57617986 0.57462472\n",
      " 0.57139558 0.56923157 0.56670803 0.56304604]\n",
      "11 day output [[0.5612059]]\n",
      "12 day input [0.56024711 0.5615624  0.58008897 0.57167119 0.57911193 0.61225683\n",
      " 0.66674681 0.67163213 0.66223731 0.66261312 0.66749838 0.66486784\n",
      " 0.66374045 0.67877217 0.67802059 0.70470192 0.70733246 0.70357453\n",
      " 0.70395034 0.6851607  0.6475814  0.66674681 0.65885519 0.65660041\n",
      " 0.66486784 0.64607819 0.67200794 0.65772781 0.65096352 0.66148573\n",
      " 0.67426266 0.66674681 0.65359405 0.65246667 0.6678742  0.6678742\n",
      " 0.67839642 0.66223731 0.65246667 0.63292544 0.6532183  0.64307184\n",
      " 0.63668337 0.64194451 0.6084989  0.59196404 0.57355015 0.58595133\n",
      " 0.60436522 0.59722511 0.61826955 0.63630762 0.63442865 0.63367702\n",
      " 0.61225683 0.61376004 0.61037787 0.61037787 0.61793923 0.62258649\n",
      " 0.62550557 0.62652373 0.62614572 0.62526405 0.62462437 0.62460101\n",
      " 0.62519503 0.62617111 0.62723219 0.62815261 0.62883615 0.62930596\n",
      " 0.6296525  0.62997591 0.63034594 0.63078642 0.63128388 0.63180637\n",
      " 0.63232172 0.63281012 0.63326693 0.6336987  0.63411713 0.63453257\n",
      " 0.6349504  0.63537133 0.63579214 0.63620901 0.59176081 0.59142596\n",
      " 0.58652306 0.57888067 0.57914996 0.57617986 0.57462472 0.57139558\n",
      " 0.56923157 0.56670803 0.56304604 0.56120592]\n",
      "12 day output [[0.5581985]]\n",
      "13 day input [0.5615624  0.58008897 0.57167119 0.57911193 0.61225683 0.66674681\n",
      " 0.67163213 0.66223731 0.66261312 0.66749838 0.66486784 0.66374045\n",
      " 0.67877217 0.67802059 0.70470192 0.70733246 0.70357453 0.70395034\n",
      " 0.6851607  0.6475814  0.66674681 0.65885519 0.65660041 0.66486784\n",
      " 0.64607819 0.67200794 0.65772781 0.65096352 0.66148573 0.67426266\n",
      " 0.66674681 0.65359405 0.65246667 0.6678742  0.6678742  0.67839642\n",
      " 0.66223731 0.65246667 0.63292544 0.6532183  0.64307184 0.63668337\n",
      " 0.64194451 0.6084989  0.59196404 0.57355015 0.58595133 0.60436522\n",
      " 0.59722511 0.61826955 0.63630762 0.63442865 0.63367702 0.61225683\n",
      " 0.61376004 0.61037787 0.61037787 0.61793923 0.62258649 0.62550557\n",
      " 0.62652373 0.62614572 0.62526405 0.62462437 0.62460101 0.62519503\n",
      " 0.62617111 0.62723219 0.62815261 0.62883615 0.62930596 0.6296525\n",
      " 0.62997591 0.63034594 0.63078642 0.63128388 0.63180637 0.63232172\n",
      " 0.63281012 0.63326693 0.6336987  0.63411713 0.63453257 0.6349504\n",
      " 0.63537133 0.63579214 0.63620901 0.59176081 0.59142596 0.58652306\n",
      " 0.57888067 0.57914996 0.57617986 0.57462472 0.57139558 0.56923157\n",
      " 0.56670803 0.56304604 0.56120592 0.55819851]\n",
      "13 day output [[0.55715775]]\n",
      "14 day input [0.58008897 0.57167119 0.57911193 0.61225683 0.66674681 0.67163213\n",
      " 0.66223731 0.66261312 0.66749838 0.66486784 0.66374045 0.67877217\n",
      " 0.67802059 0.70470192 0.70733246 0.70357453 0.70395034 0.6851607\n",
      " 0.6475814  0.66674681 0.65885519 0.65660041 0.66486784 0.64607819\n",
      " 0.67200794 0.65772781 0.65096352 0.66148573 0.67426266 0.66674681\n",
      " 0.65359405 0.65246667 0.6678742  0.6678742  0.67839642 0.66223731\n",
      " 0.65246667 0.63292544 0.6532183  0.64307184 0.63668337 0.64194451\n",
      " 0.6084989  0.59196404 0.57355015 0.58595133 0.60436522 0.59722511\n",
      " 0.61826955 0.63630762 0.63442865 0.63367702 0.61225683 0.61376004\n",
      " 0.61037787 0.61037787 0.61793923 0.62258649 0.62550557 0.62652373\n",
      " 0.62614572 0.62526405 0.62462437 0.62460101 0.62519503 0.62617111\n",
      " 0.62723219 0.62815261 0.62883615 0.62930596 0.6296525  0.62997591\n",
      " 0.63034594 0.63078642 0.63128388 0.63180637 0.63232172 0.63281012\n",
      " 0.63326693 0.6336987  0.63411713 0.63453257 0.6349504  0.63537133\n",
      " 0.63579214 0.63620901 0.59176081 0.59142596 0.58652306 0.57888067\n",
      " 0.57914996 0.57617986 0.57462472 0.57139558 0.56923157 0.56670803\n",
      " 0.56304604 0.56120592 0.55819851 0.55715775]\n",
      "14 day output [[0.5564749]]\n",
      "15 day input [0.57167119 0.57911193 0.61225683 0.66674681 0.67163213 0.66223731\n",
      " 0.66261312 0.66749838 0.66486784 0.66374045 0.67877217 0.67802059\n",
      " 0.70470192 0.70733246 0.70357453 0.70395034 0.6851607  0.6475814\n",
      " 0.66674681 0.65885519 0.65660041 0.66486784 0.64607819 0.67200794\n",
      " 0.65772781 0.65096352 0.66148573 0.67426266 0.66674681 0.65359405\n",
      " 0.65246667 0.6678742  0.6678742  0.67839642 0.66223731 0.65246667\n",
      " 0.63292544 0.6532183  0.64307184 0.63668337 0.64194451 0.6084989\n",
      " 0.59196404 0.57355015 0.58595133 0.60436522 0.59722511 0.61826955\n",
      " 0.63630762 0.63442865 0.63367702 0.61225683 0.61376004 0.61037787\n",
      " 0.61037787 0.61793923 0.62258649 0.62550557 0.62652373 0.62614572\n",
      " 0.62526405 0.62462437 0.62460101 0.62519503 0.62617111 0.62723219\n",
      " 0.62815261 0.62883615 0.62930596 0.6296525  0.62997591 0.63034594\n",
      " 0.63078642 0.63128388 0.63180637 0.63232172 0.63281012 0.63326693\n",
      " 0.6336987  0.63411713 0.63453257 0.6349504  0.63537133 0.63579214\n",
      " 0.63620901 0.59176081 0.59142596 0.58652306 0.57888067 0.57914996\n",
      " 0.57617986 0.57462472 0.57139558 0.56923157 0.56670803 0.56304604\n",
      " 0.56120592 0.55819851 0.55715775 0.55647492]\n",
      "15 day output [[0.5574152]]\n",
      "16 day input [0.57911193 0.61225683 0.66674681 0.67163213 0.66223731 0.66261312\n",
      " 0.66749838 0.66486784 0.66374045 0.67877217 0.67802059 0.70470192\n",
      " 0.70733246 0.70357453 0.70395034 0.6851607  0.6475814  0.66674681\n",
      " 0.65885519 0.65660041 0.66486784 0.64607819 0.67200794 0.65772781\n",
      " 0.65096352 0.66148573 0.67426266 0.66674681 0.65359405 0.65246667\n",
      " 0.6678742  0.6678742  0.67839642 0.66223731 0.65246667 0.63292544\n",
      " 0.6532183  0.64307184 0.63668337 0.64194451 0.6084989  0.59196404\n",
      " 0.57355015 0.58595133 0.60436522 0.59722511 0.61826955 0.63630762\n",
      " 0.63442865 0.63367702 0.61225683 0.61376004 0.61037787 0.61037787\n",
      " 0.61793923 0.62258649 0.62550557 0.62652373 0.62614572 0.62526405\n",
      " 0.62462437 0.62460101 0.62519503 0.62617111 0.62723219 0.62815261\n",
      " 0.62883615 0.62930596 0.6296525  0.62997591 0.63034594 0.63078642\n",
      " 0.63128388 0.63180637 0.63232172 0.63281012 0.63326693 0.6336987\n",
      " 0.63411713 0.63453257 0.6349504  0.63537133 0.63579214 0.63620901\n",
      " 0.59176081 0.59142596 0.58652306 0.57888067 0.57914996 0.57617986\n",
      " 0.57462472 0.57139558 0.56923157 0.56670803 0.56304604 0.56120592\n",
      " 0.55819851 0.55715775 0.55647492 0.55741519]\n",
      "16 day output [[0.5586257]]\n",
      "17 day input [0.61225683 0.66674681 0.67163213 0.66223731 0.66261312 0.66749838\n",
      " 0.66486784 0.66374045 0.67877217 0.67802059 0.70470192 0.70733246\n",
      " 0.70357453 0.70395034 0.6851607  0.6475814  0.66674681 0.65885519\n",
      " 0.65660041 0.66486784 0.64607819 0.67200794 0.65772781 0.65096352\n",
      " 0.66148573 0.67426266 0.66674681 0.65359405 0.65246667 0.6678742\n",
      " 0.6678742  0.67839642 0.66223731 0.65246667 0.63292544 0.6532183\n",
      " 0.64307184 0.63668337 0.64194451 0.6084989  0.59196404 0.57355015\n",
      " 0.58595133 0.60436522 0.59722511 0.61826955 0.63630762 0.63442865\n",
      " 0.63367702 0.61225683 0.61376004 0.61037787 0.61037787 0.61793923\n",
      " 0.62258649 0.62550557 0.62652373 0.62614572 0.62526405 0.62462437\n",
      " 0.62460101 0.62519503 0.62617111 0.62723219 0.62815261 0.62883615\n",
      " 0.62930596 0.6296525  0.62997591 0.63034594 0.63078642 0.63128388\n",
      " 0.63180637 0.63232172 0.63281012 0.63326693 0.6336987  0.63411713\n",
      " 0.63453257 0.6349504  0.63537133 0.63579214 0.63620901 0.59176081\n",
      " 0.59142596 0.58652306 0.57888067 0.57914996 0.57617986 0.57462472\n",
      " 0.57139558 0.56923157 0.56670803 0.56304604 0.56120592 0.55819851\n",
      " 0.55715775 0.55647492 0.55741519 0.5586257 ]\n",
      "17 day output [[0.55785286]]\n",
      "18 day input [0.66674681 0.67163213 0.66223731 0.66261312 0.66749838 0.66486784\n",
      " 0.66374045 0.67877217 0.67802059 0.70470192 0.70733246 0.70357453\n",
      " 0.70395034 0.6851607  0.6475814  0.66674681 0.65885519 0.65660041\n",
      " 0.66486784 0.64607819 0.67200794 0.65772781 0.65096352 0.66148573\n",
      " 0.67426266 0.66674681 0.65359405 0.65246667 0.6678742  0.6678742\n",
      " 0.67839642 0.66223731 0.65246667 0.63292544 0.6532183  0.64307184\n",
      " 0.63668337 0.64194451 0.6084989  0.59196404 0.57355015 0.58595133\n",
      " 0.60436522 0.59722511 0.61826955 0.63630762 0.63442865 0.63367702\n",
      " 0.61225683 0.61376004 0.61037787 0.61037787 0.61793923 0.62258649\n",
      " 0.62550557 0.62652373 0.62614572 0.62526405 0.62462437 0.62460101\n",
      " 0.62519503 0.62617111 0.62723219 0.62815261 0.62883615 0.62930596\n",
      " 0.6296525  0.62997591 0.63034594 0.63078642 0.63128388 0.63180637\n",
      " 0.63232172 0.63281012 0.63326693 0.6336987  0.63411713 0.63453257\n",
      " 0.6349504  0.63537133 0.63579214 0.63620901 0.59176081 0.59142596\n",
      " 0.58652306 0.57888067 0.57914996 0.57617986 0.57462472 0.57139558\n",
      " 0.56923157 0.56670803 0.56304604 0.56120592 0.55819851 0.55715775\n",
      " 0.55647492 0.55741519 0.5586257  0.55785286]\n",
      "18 day output [[0.5557883]]\n",
      "19 day input [0.67163213 0.66223731 0.66261312 0.66749838 0.66486784 0.66374045\n",
      " 0.67877217 0.67802059 0.70470192 0.70733246 0.70357453 0.70395034\n",
      " 0.6851607  0.6475814  0.66674681 0.65885519 0.65660041 0.66486784\n",
      " 0.64607819 0.67200794 0.65772781 0.65096352 0.66148573 0.67426266\n",
      " 0.66674681 0.65359405 0.65246667 0.6678742  0.6678742  0.67839642\n",
      " 0.66223731 0.65246667 0.63292544 0.6532183  0.64307184 0.63668337\n",
      " 0.64194451 0.6084989  0.59196404 0.57355015 0.58595133 0.60436522\n",
      " 0.59722511 0.61826955 0.63630762 0.63442865 0.63367702 0.61225683\n",
      " 0.61376004 0.61037787 0.61037787 0.61793923 0.62258649 0.62550557\n",
      " 0.62652373 0.62614572 0.62526405 0.62462437 0.62460101 0.62519503\n",
      " 0.62617111 0.62723219 0.62815261 0.62883615 0.62930596 0.6296525\n",
      " 0.62997591 0.63034594 0.63078642 0.63128388 0.63180637 0.63232172\n",
      " 0.63281012 0.63326693 0.6336987  0.63411713 0.63453257 0.6349504\n",
      " 0.63537133 0.63579214 0.63620901 0.59176081 0.59142596 0.58652306\n",
      " 0.57888067 0.57914996 0.57617986 0.57462472 0.57139558 0.56923157\n",
      " 0.56670803 0.56304604 0.56120592 0.55819851 0.55715775 0.55647492\n",
      " 0.55741519 0.5586257  0.55785286 0.55578828]\n"
     ]
    },
    {
     "name": "stdout",
     "output_type": "stream",
     "text": [
      "19 day output [[0.5541929]]\n",
      "20 day input [0.66223731 0.66261312 0.66749838 0.66486784 0.66374045 0.67877217\n",
      " 0.67802059 0.70470192 0.70733246 0.70357453 0.70395034 0.6851607\n",
      " 0.6475814  0.66674681 0.65885519 0.65660041 0.66486784 0.64607819\n",
      " 0.67200794 0.65772781 0.65096352 0.66148573 0.67426266 0.66674681\n",
      " 0.65359405 0.65246667 0.6678742  0.6678742  0.67839642 0.66223731\n",
      " 0.65246667 0.63292544 0.6532183  0.64307184 0.63668337 0.64194451\n",
      " 0.6084989  0.59196404 0.57355015 0.58595133 0.60436522 0.59722511\n",
      " 0.61826955 0.63630762 0.63442865 0.63367702 0.61225683 0.61376004\n",
      " 0.61037787 0.61037787 0.61793923 0.62258649 0.62550557 0.62652373\n",
      " 0.62614572 0.62526405 0.62462437 0.62460101 0.62519503 0.62617111\n",
      " 0.62723219 0.62815261 0.62883615 0.62930596 0.6296525  0.62997591\n",
      " 0.63034594 0.63078642 0.63128388 0.63180637 0.63232172 0.63281012\n",
      " 0.63326693 0.6336987  0.63411713 0.63453257 0.6349504  0.63537133\n",
      " 0.63579214 0.63620901 0.59176081 0.59142596 0.58652306 0.57888067\n",
      " 0.57914996 0.57617986 0.57462472 0.57139558 0.56923157 0.56670803\n",
      " 0.56304604 0.56120592 0.55819851 0.55715775 0.55647492 0.55741519\n",
      " 0.5586257  0.55785286 0.55578828 0.5541929 ]\n",
      "20 day output [[0.5533169]]\n",
      "21 day input [0.66261312 0.66749838 0.66486784 0.66374045 0.67877217 0.67802059\n",
      " 0.70470192 0.70733246 0.70357453 0.70395034 0.6851607  0.6475814\n",
      " 0.66674681 0.65885519 0.65660041 0.66486784 0.64607819 0.67200794\n",
      " 0.65772781 0.65096352 0.66148573 0.67426266 0.66674681 0.65359405\n",
      " 0.65246667 0.6678742  0.6678742  0.67839642 0.66223731 0.65246667\n",
      " 0.63292544 0.6532183  0.64307184 0.63668337 0.64194451 0.6084989\n",
      " 0.59196404 0.57355015 0.58595133 0.60436522 0.59722511 0.61826955\n",
      " 0.63630762 0.63442865 0.63367702 0.61225683 0.61376004 0.61037787\n",
      " 0.61037787 0.61793923 0.62258649 0.62550557 0.62652373 0.62614572\n",
      " 0.62526405 0.62462437 0.62460101 0.62519503 0.62617111 0.62723219\n",
      " 0.62815261 0.62883615 0.62930596 0.6296525  0.62997591 0.63034594\n",
      " 0.63078642 0.63128388 0.63180637 0.63232172 0.63281012 0.63326693\n",
      " 0.6336987  0.63411713 0.63453257 0.6349504  0.63537133 0.63579214\n",
      " 0.63620901 0.59176081 0.59142596 0.58652306 0.57888067 0.57914996\n",
      " 0.57617986 0.57462472 0.57139558 0.56923157 0.56670803 0.56304604\n",
      " 0.56120592 0.55819851 0.55715775 0.55647492 0.55741519 0.5586257\n",
      " 0.55785286 0.55578828 0.5541929  0.55331689]\n",
      "21 day output [[0.5524194]]\n",
      "22 day input [0.66749838 0.66486784 0.66374045 0.67877217 0.67802059 0.70470192\n",
      " 0.70733246 0.70357453 0.70395034 0.6851607  0.6475814  0.66674681\n",
      " 0.65885519 0.65660041 0.66486784 0.64607819 0.67200794 0.65772781\n",
      " 0.65096352 0.66148573 0.67426266 0.66674681 0.65359405 0.65246667\n",
      " 0.6678742  0.6678742  0.67839642 0.66223731 0.65246667 0.63292544\n",
      " 0.6532183  0.64307184 0.63668337 0.64194451 0.6084989  0.59196404\n",
      " 0.57355015 0.58595133 0.60436522 0.59722511 0.61826955 0.63630762\n",
      " 0.63442865 0.63367702 0.61225683 0.61376004 0.61037787 0.61037787\n",
      " 0.61793923 0.62258649 0.62550557 0.62652373 0.62614572 0.62526405\n",
      " 0.62462437 0.62460101 0.62519503 0.62617111 0.62723219 0.62815261\n",
      " 0.62883615 0.62930596 0.6296525  0.62997591 0.63034594 0.63078642\n",
      " 0.63128388 0.63180637 0.63232172 0.63281012 0.63326693 0.6336987\n",
      " 0.63411713 0.63453257 0.6349504  0.63537133 0.63579214 0.63620901\n",
      " 0.59176081 0.59142596 0.58652306 0.57888067 0.57914996 0.57617986\n",
      " 0.57462472 0.57139558 0.56923157 0.56670803 0.56304604 0.56120592\n",
      " 0.55819851 0.55715775 0.55647492 0.55741519 0.5586257  0.55785286\n",
      " 0.55578828 0.5541929  0.55331689 0.55241942]\n",
      "22 day output [[0.5516712]]\n",
      "23 day input [0.66486784 0.66374045 0.67877217 0.67802059 0.70470192 0.70733246\n",
      " 0.70357453 0.70395034 0.6851607  0.6475814  0.66674681 0.65885519\n",
      " 0.65660041 0.66486784 0.64607819 0.67200794 0.65772781 0.65096352\n",
      " 0.66148573 0.67426266 0.66674681 0.65359405 0.65246667 0.6678742\n",
      " 0.6678742  0.67839642 0.66223731 0.65246667 0.63292544 0.6532183\n",
      " 0.64307184 0.63668337 0.64194451 0.6084989  0.59196404 0.57355015\n",
      " 0.58595133 0.60436522 0.59722511 0.61826955 0.63630762 0.63442865\n",
      " 0.63367702 0.61225683 0.61376004 0.61037787 0.61037787 0.61793923\n",
      " 0.62258649 0.62550557 0.62652373 0.62614572 0.62526405 0.62462437\n",
      " 0.62460101 0.62519503 0.62617111 0.62723219 0.62815261 0.62883615\n",
      " 0.62930596 0.6296525  0.62997591 0.63034594 0.63078642 0.63128388\n",
      " 0.63180637 0.63232172 0.63281012 0.63326693 0.6336987  0.63411713\n",
      " 0.63453257 0.6349504  0.63537133 0.63579214 0.63620901 0.59176081\n",
      " 0.59142596 0.58652306 0.57888067 0.57914996 0.57617986 0.57462472\n",
      " 0.57139558 0.56923157 0.56670803 0.56304604 0.56120592 0.55819851\n",
      " 0.55715775 0.55647492 0.55741519 0.5586257  0.55785286 0.55578828\n",
      " 0.5541929  0.55331689 0.55241942 0.55167121]\n",
      "23 day output [[0.5505066]]\n",
      "24 day input [0.66374045 0.67877217 0.67802059 0.70470192 0.70733246 0.70357453\n",
      " 0.70395034 0.6851607  0.6475814  0.66674681 0.65885519 0.65660041\n",
      " 0.66486784 0.64607819 0.67200794 0.65772781 0.65096352 0.66148573\n",
      " 0.67426266 0.66674681 0.65359405 0.65246667 0.6678742  0.6678742\n",
      " 0.67839642 0.66223731 0.65246667 0.63292544 0.6532183  0.64307184\n",
      " 0.63668337 0.64194451 0.6084989  0.59196404 0.57355015 0.58595133\n",
      " 0.60436522 0.59722511 0.61826955 0.63630762 0.63442865 0.63367702\n",
      " 0.61225683 0.61376004 0.61037787 0.61037787 0.61793923 0.62258649\n",
      " 0.62550557 0.62652373 0.62614572 0.62526405 0.62462437 0.62460101\n",
      " 0.62519503 0.62617111 0.62723219 0.62815261 0.62883615 0.62930596\n",
      " 0.6296525  0.62997591 0.63034594 0.63078642 0.63128388 0.63180637\n",
      " 0.63232172 0.63281012 0.63326693 0.6336987  0.63411713 0.63453257\n",
      " 0.6349504  0.63537133 0.63579214 0.63620901 0.59176081 0.59142596\n",
      " 0.58652306 0.57888067 0.57914996 0.57617986 0.57462472 0.57139558\n",
      " 0.56923157 0.56670803 0.56304604 0.56120592 0.55819851 0.55715775\n",
      " 0.55647492 0.55741519 0.5586257  0.55785286 0.55578828 0.5541929\n",
      " 0.55331689 0.55241942 0.55167121 0.55050659]\n",
      "24 day output [[0.54947156]]\n",
      "25 day input [0.67877217 0.67802059 0.70470192 0.70733246 0.70357453 0.70395034\n",
      " 0.6851607  0.6475814  0.66674681 0.65885519 0.65660041 0.66486784\n",
      " 0.64607819 0.67200794 0.65772781 0.65096352 0.66148573 0.67426266\n",
      " 0.66674681 0.65359405 0.65246667 0.6678742  0.6678742  0.67839642\n",
      " 0.66223731 0.65246667 0.63292544 0.6532183  0.64307184 0.63668337\n",
      " 0.64194451 0.6084989  0.59196404 0.57355015 0.58595133 0.60436522\n",
      " 0.59722511 0.61826955 0.63630762 0.63442865 0.63367702 0.61225683\n",
      " 0.61376004 0.61037787 0.61037787 0.61793923 0.62258649 0.62550557\n",
      " 0.62652373 0.62614572 0.62526405 0.62462437 0.62460101 0.62519503\n",
      " 0.62617111 0.62723219 0.62815261 0.62883615 0.62930596 0.6296525\n",
      " 0.62997591 0.63034594 0.63078642 0.63128388 0.63180637 0.63232172\n",
      " 0.63281012 0.63326693 0.6336987  0.63411713 0.63453257 0.6349504\n",
      " 0.63537133 0.63579214 0.63620901 0.59176081 0.59142596 0.58652306\n",
      " 0.57888067 0.57914996 0.57617986 0.57462472 0.57139558 0.56923157\n",
      " 0.56670803 0.56304604 0.56120592 0.55819851 0.55715775 0.55647492\n",
      " 0.55741519 0.5586257  0.55785286 0.55578828 0.5541929  0.55331689\n",
      " 0.55241942 0.55167121 0.55050659 0.54947156]\n",
      "25 day output [[0.5475843]]\n",
      "26 day input [0.67802059 0.70470192 0.70733246 0.70357453 0.70395034 0.6851607\n",
      " 0.6475814  0.66674681 0.65885519 0.65660041 0.66486784 0.64607819\n",
      " 0.67200794 0.65772781 0.65096352 0.66148573 0.67426266 0.66674681\n",
      " 0.65359405 0.65246667 0.6678742  0.6678742  0.67839642 0.66223731\n",
      " 0.65246667 0.63292544 0.6532183  0.64307184 0.63668337 0.64194451\n",
      " 0.6084989  0.59196404 0.57355015 0.58595133 0.60436522 0.59722511\n",
      " 0.61826955 0.63630762 0.63442865 0.63367702 0.61225683 0.61376004\n",
      " 0.61037787 0.61037787 0.61793923 0.62258649 0.62550557 0.62652373\n",
      " 0.62614572 0.62526405 0.62462437 0.62460101 0.62519503 0.62617111\n",
      " 0.62723219 0.62815261 0.62883615 0.62930596 0.6296525  0.62997591\n",
      " 0.63034594 0.63078642 0.63128388 0.63180637 0.63232172 0.63281012\n",
      " 0.63326693 0.6336987  0.63411713 0.63453257 0.6349504  0.63537133\n",
      " 0.63579214 0.63620901 0.59176081 0.59142596 0.58652306 0.57888067\n",
      " 0.57914996 0.57617986 0.57462472 0.57139558 0.56923157 0.56670803\n",
      " 0.56304604 0.56120592 0.55819851 0.55715775 0.55647492 0.55741519\n",
      " 0.5586257  0.55785286 0.55578828 0.5541929  0.55331689 0.55241942\n",
      " 0.55167121 0.55050659 0.54947156 0.5475843 ]\n",
      "26 day output [[0.5465164]]\n",
      "27 day input [0.70470192 0.70733246 0.70357453 0.70395034 0.6851607  0.6475814\n",
      " 0.66674681 0.65885519 0.65660041 0.66486784 0.64607819 0.67200794\n",
      " 0.65772781 0.65096352 0.66148573 0.67426266 0.66674681 0.65359405\n",
      " 0.65246667 0.6678742  0.6678742  0.67839642 0.66223731 0.65246667\n",
      " 0.63292544 0.6532183  0.64307184 0.63668337 0.64194451 0.6084989\n",
      " 0.59196404 0.57355015 0.58595133 0.60436522 0.59722511 0.61826955\n",
      " 0.63630762 0.63442865 0.63367702 0.61225683 0.61376004 0.61037787\n",
      " 0.61037787 0.61793923 0.62258649 0.62550557 0.62652373 0.62614572\n",
      " 0.62526405 0.62462437 0.62460101 0.62519503 0.62617111 0.62723219\n",
      " 0.62815261 0.62883615 0.62930596 0.6296525  0.62997591 0.63034594\n",
      " 0.63078642 0.63128388 0.63180637 0.63232172 0.63281012 0.63326693\n",
      " 0.6336987  0.63411713 0.63453257 0.6349504  0.63537133 0.63579214\n",
      " 0.63620901 0.59176081 0.59142596 0.58652306 0.57888067 0.57914996\n",
      " 0.57617986 0.57462472 0.57139558 0.56923157 0.56670803 0.56304604\n",
      " 0.56120592 0.55819851 0.55715775 0.55647492 0.55741519 0.5586257\n",
      " 0.55785286 0.55578828 0.5541929  0.55331689 0.55241942 0.55167121\n",
      " 0.55050659 0.54947156 0.5475843  0.54651642]\n",
      "27 day output [[0.5463445]]\n",
      "28 day input [0.70733246 0.70357453 0.70395034 0.6851607  0.6475814  0.66674681\n",
      " 0.65885519 0.65660041 0.66486784 0.64607819 0.67200794 0.65772781\n",
      " 0.65096352 0.66148573 0.67426266 0.66674681 0.65359405 0.65246667\n",
      " 0.6678742  0.6678742  0.67839642 0.66223731 0.65246667 0.63292544\n",
      " 0.6532183  0.64307184 0.63668337 0.64194451 0.6084989  0.59196404\n",
      " 0.57355015 0.58595133 0.60436522 0.59722511 0.61826955 0.63630762\n",
      " 0.63442865 0.63367702 0.61225683 0.61376004 0.61037787 0.61037787\n",
      " 0.61793923 0.62258649 0.62550557 0.62652373 0.62614572 0.62526405\n",
      " 0.62462437 0.62460101 0.62519503 0.62617111 0.62723219 0.62815261\n",
      " 0.62883615 0.62930596 0.6296525  0.62997591 0.63034594 0.63078642\n",
      " 0.63128388 0.63180637 0.63232172 0.63281012 0.63326693 0.6336987\n",
      " 0.63411713 0.63453257 0.6349504  0.63537133 0.63579214 0.63620901\n",
      " 0.59176081 0.59142596 0.58652306 0.57888067 0.57914996 0.57617986\n",
      " 0.57462472 0.57139558 0.56923157 0.56670803 0.56304604 0.56120592\n",
      " 0.55819851 0.55715775 0.55647492 0.55741519 0.5586257  0.55785286\n",
      " 0.55578828 0.5541929  0.55331689 0.55241942 0.55167121 0.55050659\n",
      " 0.54947156 0.5475843  0.54651642 0.54634452]\n",
      "28 day output [[0.5456042]]\n",
      "29 day input [0.70357453 0.70395034 0.6851607  0.6475814  0.66674681 0.65885519\n",
      " 0.65660041 0.66486784 0.64607819 0.67200794 0.65772781 0.65096352\n",
      " 0.66148573 0.67426266 0.66674681 0.65359405 0.65246667 0.6678742\n",
      " 0.6678742  0.67839642 0.66223731 0.65246667 0.63292544 0.6532183\n",
      " 0.64307184 0.63668337 0.64194451 0.6084989  0.59196404 0.57355015\n",
      " 0.58595133 0.60436522 0.59722511 0.61826955 0.63630762 0.63442865\n",
      " 0.63367702 0.61225683 0.61376004 0.61037787 0.61037787 0.61793923\n",
      " 0.62258649 0.62550557 0.62652373 0.62614572 0.62526405 0.62462437\n",
      " 0.62460101 0.62519503 0.62617111 0.62723219 0.62815261 0.62883615\n",
      " 0.62930596 0.6296525  0.62997591 0.63034594 0.63078642 0.63128388\n",
      " 0.63180637 0.63232172 0.63281012 0.63326693 0.6336987  0.63411713\n",
      " 0.63453257 0.6349504  0.63537133 0.63579214 0.63620901 0.59176081\n",
      " 0.59142596 0.58652306 0.57888067 0.57914996 0.57617986 0.57462472\n",
      " 0.57139558 0.56923157 0.56670803 0.56304604 0.56120592 0.55819851\n",
      " 0.55715775 0.55647492 0.55741519 0.5586257  0.55785286 0.55578828\n",
      " 0.5541929  0.55331689 0.55241942 0.55167121 0.55050659 0.54947156\n",
      " 0.5475843  0.54651642 0.54634452 0.54560423]\n"
     ]
    },
    {
     "name": "stdout",
     "output_type": "stream",
     "text": [
      "29 day output [[0.5452654]]\n",
      "[[0.5917608141899109], [0.5914259552955627], [0.5865230560302734], [0.5788806676864624], [0.5791499614715576], [0.5761798620223999], [0.5746247172355652], [0.5713955760002136], [0.5692315697669983], [0.5667080283164978], [0.5630460381507874], [0.5612059235572815], [0.5581985116004944], [0.5571577548980713], [0.5564749240875244], [0.5574151873588562], [0.5586256980895996], [0.5578528642654419], [0.5557882785797119], [0.5541929006576538], [0.5533168911933899], [0.5524194240570068], [0.5516712069511414], [0.550506591796875], [0.5494715571403503], [0.5475842952728271], [0.5465164184570312], [0.546344518661499], [0.5456042289733887], [0.5452653765678406]]\n"
     ]
    }
   ],
   "source": [
    "# demonstrate prediction for next 30 days in CNN\n",
    "from numpy import array\n",
    "lst_outputcnn=[]\n",
    "n_steps=100\n",
    "i=0\n",
    "while(i<30):\n",
    "\n",
    "  if(len(temp_input)>100):\n",
    "    x_input=np.array(temp_input[1:])\n",
    "    print(\"{} day input {}\".format(i,x_input))\n",
    "    x_input=x_input.reshape(1,-1)\n",
    "    x_input = x_input.reshape((1, n_steps, 1))\n",
    "    yhat = model_cnn.predict(x_input, verbose=0)\n",
    "    print(\"{} day output {}\".format(i,yhat))\n",
    "    temp_input.extend(yhat[0].tolist())\n",
    "    temp_input=temp_input[1:]\n",
    "    lst_outputcnn.extend(yhat.tolist())\n",
    "    i=i+1\n",
    "  else:\n",
    "    x_input = x_input.reshape((1, n_steps, 1))\n",
    "    yhat = model_cnn.predict(x_input, verbose=0)\n",
    "    print(yhat[0])\n",
    "    temp_input.extend(yhat[0].tolist())\n",
    "    print(len(temp_input))\n",
    "    lst_outputcnn.extend(yhat.tolist())\n",
    "    i=i+1\n",
    "print(lst_outputcnn)"
   ]
  },
  {
   "cell_type": "code",
   "execution_count": 88,
   "id": "6dfb5b18",
   "metadata": {},
   "outputs": [],
   "source": [
    "day_new=np.arange(1,101)\n",
    "day_pred=np.arange(101,131)"
   ]
  },
  {
   "cell_type": "code",
   "execution_count": 89,
   "id": "57eb016d",
   "metadata": {},
   "outputs": [
    {
     "data": {
      "text/plain": [
       "2463"
      ]
     },
     "execution_count": 89,
     "metadata": {},
     "output_type": "execute_result"
    }
   ],
   "source": [
    "len(df1)"
   ]
  },
  {
   "cell_type": "code",
   "execution_count": 90,
   "id": "b432bece",
   "metadata": {},
   "outputs": [],
   "source": [
    "b=len(df1)-time_step"
   ]
  },
  {
   "cell_type": "code",
   "execution_count": 91,
   "id": "5dada6d8",
   "metadata": {},
   "outputs": [],
   "source": [
    "df2=df1.tolist()\n",
    "df2.extend(lst_outputlstm)"
   ]
  },
  {
   "cell_type": "code",
   "execution_count": 92,
   "id": "f5720119",
   "metadata": {},
   "outputs": [],
   "source": [
    "df3=df1.tolist()\n",
    "df3.extend(lst_outputcnn)"
   ]
  },
  {
   "cell_type": "code",
   "execution_count": 93,
   "id": "cf7df267",
   "metadata": {},
   "outputs": [
    {
     "data": {
      "image/png": "[encoded data removed]",
      "text/plain": [
       "<Figure size 640x480 with 1 Axes>"
      ]
     },
     "metadata": {},
     "output_type": "display_data"
    }
   ],
   "source": [
    "# PLOTTING REPRESENTATION THROUGH LSTM\n",
    "plt.plot(day_new,scaler.inverse_transform(df1[b:]))\n",
    "plt.plot(day_pred,scaler.inverse_transform(lst_outputlstm))\n",
    "plt.title('predicted price')\n",
    "plt.xlabel('Date')\n",
    "plt.ylabel('prices')\n",
    "plt.show()"
   ]
  },
  {
   "cell_type": "code",
   "execution_count": 94,
   "id": "265bf964",
   "metadata": {},
   "outputs": [
    {
     "data": {
      "image/png": "[encoded data removed]",
      "text/plain": [
       "<Figure size 640x480 with 1 Axes>"
      ]
     },
     "metadata": {},
     "output_type": "display_data"
    }
   ],
   "source": [
    "df2=df1.tolist()\n",
    "df2.extend(lst_outputlstm)\n",
    "plt.plot(df2[1200:])\n",
    "plt.title('predicted price')\n",
    "plt.xlabel('Date')\n",
    "plt.ylabel('prices')\n",
    "plt.show()"
   ]
  },
  {
   "cell_type": "code",
   "execution_count": 95,
   "id": "99ccdc1a",
   "metadata": {},
   "outputs": [
    {
     "data": {
      "image/png": "[encoded data removed]",
      "text/plain": [
       "<Figure size 640x480 with 1 Axes>"
      ]
     },
     "metadata": {},
     "output_type": "display_data"
    }
   ],
   "source": [
    "# PLOTTING REPRESENTATION THROUGH CNN\n",
    "plt.plot(day_new,scaler.inverse_transform(df1[b:]))\n",
    "plt.plot(day_pred,scaler.inverse_transform(lst_outputcnn))\n",
    "plt.title('predicted price')\n",
    "plt.xlabel('Date')\n",
    "plt.ylabel('prices')\n",
    "plt.show()"
   ]
  },
  {
   "cell_type": "code",
   "execution_count": 96,
   "id": "e9eb63a2",
   "metadata": {},
   "outputs": [
    {
     "data": {
      "image/png": "[encoded data removed]",
      "text/plain": [
       "<Figure size 640x480 with 1 Axes>"
      ]
     },
     "metadata": {},
     "output_type": "display_data"
    }
   ],
   "source": [
    "df3=df1.tolist()\n",
    "df3.extend(lst_outputcnn)\n",
    "plt.plot(df3[1200:])\n",
    "plt.title('predicted price')\n",
    "plt.xlabel('Date')\n",
    "plt.ylabel('prices')\n",
    "plt.show()"
   ]
  },
  {
   "cell_type": "code",
   "execution_count": 97,
   "id": "131f9811",
   "metadata": {},
   "outputs": [],
   "source": [
    "# 5TH MODULE DONE -----> PREDICTING THE FUTURE VALUE"
   ]
  },
  {
   "cell_type": "code",
   "execution_count": null,
   "id": "35a594f1",
   "metadata": {},
   "outputs": [],
   "source": []
  }
 ],
 "metadata": {
  "kernelspec": {
   "display_name": "Python 3 (ipykernel)",
   "language": "python",
   "name": "python3"
  },
  "language_info": {
   "codemirror_mode": {
    "name": "ipython",
    "version": 3
   },
   "file_extension": ".py",
   "mimetype": "text/x-python",
   "name": "python",
   "nbconvert_exporter": "python",
   "pygments_lexer": "ipython3",
   "version": "3.11.3"
  }
 },
 "nbformat": 4,
 "nbformat_minor": 5
}
